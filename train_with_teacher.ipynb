{
 "cells": [
  {
   "cell_type": "markdown",
   "metadata": {},
   "source": [
    "# Отток клиентов"
   ]
  },
  {
   "cell_type": "markdown",
   "metadata": {},
   "source": [
    "Из «Бета-Банка» стали уходить клиенты. Каждый месяц. Немного, но заметно. Банковские маркетологи посчитали: сохранять текущих клиентов дешевле, чем привлекать новых.\n",
    "\n",
    "Нужно спрогнозировать, уйдёт клиент из банка в ближайшее время или нет. Вам предоставлены исторические данные о поведении клиентов и расторжении договоров с банком. \n",
    "\n",
    "Постройте модель с предельно большим значением *F1*-меры. Чтобы сдать проект успешно, нужно довести метрику до 0.59. Проверьте *F1*-меру на тестовой выборке самостоятельно.\n",
    "\n",
    "Дополнительно измеряйте *AUC-ROC*, сравнивайте её значение с *F1*-мерой.\n",
    "\n",
    "Источник данных: [https://www.kaggle.com/barelydedicated/bank-customer-churn-modeling](https://www.kaggle.com/barelydedicated/bank-customer-churn-modeling)"
   ]
  },
  {
   "cell_type": "markdown",
   "metadata": {},
   "source": [
    "## Подготовка данных"
   ]
  },
  {
   "cell_type": "code",
   "execution_count": 28,
   "metadata": {},
   "outputs": [],
   "source": [
    "import pandas as pd\n",
    "import numpy as np\n",
    "import matplotlib.pyplot as plt\n",
    "from sklearn.model_selection import train_test_split\n",
    "from sklearn.preprocessing import StandardScaler     \n",
    "from sklearn.tree import DecisionTreeClassifier      \n",
    "from sklearn.metrics import f1_score                 \n",
    "from sklearn.linear_model import LogisticRegression \n",
    "from sklearn.ensemble import RandomForestClassifier  \n",
    "from sklearn.utils import shuffle                   \n",
    "from sklearn.metrics import roc_curve                \n",
    "from sklearn.metrics import roc_auc_score           \n",
    "pd.options.mode.chained_assignment = None            \n",
    "import seaborn as sns  \n",
    "pd.set_option('display.float_format', '{:,.2f}'.format)\n",
    "import warnings\n",
    "\n",
    "warnings.filterwarnings('ignore')"
   ]
  },
  {
   "cell_type": "code",
   "execution_count": 29,
   "metadata": {},
   "outputs": [],
   "source": [
    "# чтение файла с данными и сохранение в DataFrame\n",
    "df = pd.read_csv('/datasets/Churn.csv',index_col=0)"
   ]
  },
  {
   "cell_type": "code",
   "execution_count": 30,
   "metadata": {},
   "outputs": [
    {
     "data": {
      "text/html": [
       "<div>\n",
       "<style scoped>\n",
       "    .dataframe tbody tr th:only-of-type {\n",
       "        vertical-align: middle;\n",
       "    }\n",
       "\n",
       "    .dataframe tbody tr th {\n",
       "        vertical-align: top;\n",
       "    }\n",
       "\n",
       "    .dataframe thead th {\n",
       "        text-align: right;\n",
       "    }\n",
       "</style>\n",
       "<table border=\"1\" class=\"dataframe\">\n",
       "  <thead>\n",
       "    <tr style=\"text-align: right;\">\n",
       "      <th></th>\n",
       "      <th>CustomerId</th>\n",
       "      <th>Surname</th>\n",
       "      <th>CreditScore</th>\n",
       "      <th>Geography</th>\n",
       "      <th>Gender</th>\n",
       "      <th>Age</th>\n",
       "      <th>Tenure</th>\n",
       "      <th>Balance</th>\n",
       "      <th>NumOfProducts</th>\n",
       "      <th>HasCrCard</th>\n",
       "      <th>IsActiveMember</th>\n",
       "      <th>EstimatedSalary</th>\n",
       "      <th>Exited</th>\n",
       "    </tr>\n",
       "    <tr>\n",
       "      <th>RowNumber</th>\n",
       "      <th></th>\n",
       "      <th></th>\n",
       "      <th></th>\n",
       "      <th></th>\n",
       "      <th></th>\n",
       "      <th></th>\n",
       "      <th></th>\n",
       "      <th></th>\n",
       "      <th></th>\n",
       "      <th></th>\n",
       "      <th></th>\n",
       "      <th></th>\n",
       "      <th></th>\n",
       "    </tr>\n",
       "  </thead>\n",
       "  <tbody>\n",
       "    <tr>\n",
       "      <th>1</th>\n",
       "      <td>15634602</td>\n",
       "      <td>Hargrave</td>\n",
       "      <td>619</td>\n",
       "      <td>France</td>\n",
       "      <td>Female</td>\n",
       "      <td>42</td>\n",
       "      <td>2.00</td>\n",
       "      <td>0.00</td>\n",
       "      <td>1</td>\n",
       "      <td>1</td>\n",
       "      <td>1</td>\n",
       "      <td>101,348.88</td>\n",
       "      <td>1</td>\n",
       "    </tr>\n",
       "    <tr>\n",
       "      <th>2</th>\n",
       "      <td>15647311</td>\n",
       "      <td>Hill</td>\n",
       "      <td>608</td>\n",
       "      <td>Spain</td>\n",
       "      <td>Female</td>\n",
       "      <td>41</td>\n",
       "      <td>1.00</td>\n",
       "      <td>83,807.86</td>\n",
       "      <td>1</td>\n",
       "      <td>0</td>\n",
       "      <td>1</td>\n",
       "      <td>112,542.58</td>\n",
       "      <td>0</td>\n",
       "    </tr>\n",
       "    <tr>\n",
       "      <th>3</th>\n",
       "      <td>15619304</td>\n",
       "      <td>Onio</td>\n",
       "      <td>502</td>\n",
       "      <td>France</td>\n",
       "      <td>Female</td>\n",
       "      <td>42</td>\n",
       "      <td>8.00</td>\n",
       "      <td>159,660.80</td>\n",
       "      <td>3</td>\n",
       "      <td>1</td>\n",
       "      <td>0</td>\n",
       "      <td>113,931.57</td>\n",
       "      <td>1</td>\n",
       "    </tr>\n",
       "    <tr>\n",
       "      <th>4</th>\n",
       "      <td>15701354</td>\n",
       "      <td>Boni</td>\n",
       "      <td>699</td>\n",
       "      <td>France</td>\n",
       "      <td>Female</td>\n",
       "      <td>39</td>\n",
       "      <td>1.00</td>\n",
       "      <td>0.00</td>\n",
       "      <td>2</td>\n",
       "      <td>0</td>\n",
       "      <td>0</td>\n",
       "      <td>93,826.63</td>\n",
       "      <td>0</td>\n",
       "    </tr>\n",
       "    <tr>\n",
       "      <th>5</th>\n",
       "      <td>15737888</td>\n",
       "      <td>Mitchell</td>\n",
       "      <td>850</td>\n",
       "      <td>Spain</td>\n",
       "      <td>Female</td>\n",
       "      <td>43</td>\n",
       "      <td>2.00</td>\n",
       "      <td>125,510.82</td>\n",
       "      <td>1</td>\n",
       "      <td>1</td>\n",
       "      <td>1</td>\n",
       "      <td>79,084.10</td>\n",
       "      <td>0</td>\n",
       "    </tr>\n",
       "  </tbody>\n",
       "</table>\n",
       "</div>"
      ],
      "text/plain": [
       "           CustomerId   Surname  CreditScore Geography  Gender  Age  Tenure  \\\n",
       "RowNumber                                                                     \n",
       "1            15634602  Hargrave          619    France  Female   42    2.00   \n",
       "2            15647311      Hill          608     Spain  Female   41    1.00   \n",
       "3            15619304      Onio          502    France  Female   42    8.00   \n",
       "4            15701354      Boni          699    France  Female   39    1.00   \n",
       "5            15737888  Mitchell          850     Spain  Female   43    2.00   \n",
       "\n",
       "             Balance  NumOfProducts  HasCrCard  IsActiveMember  \\\n",
       "RowNumber                                                        \n",
       "1               0.00              1          1               1   \n",
       "2          83,807.86              1          0               1   \n",
       "3         159,660.80              3          1               0   \n",
       "4               0.00              2          0               0   \n",
       "5         125,510.82              1          1               1   \n",
       "\n",
       "           EstimatedSalary  Exited  \n",
       "RowNumber                           \n",
       "1               101,348.88       1  \n",
       "2               112,542.58       0  \n",
       "3               113,931.57       1  \n",
       "4                93,826.63       0  \n",
       "5                79,084.10       0  "
      ]
     },
     "execution_count": 30,
     "metadata": {},
     "output_type": "execute_result"
    }
   ],
   "source": [
    "# получение первых 5 строк таблицы df\n",
    "df.head()"
   ]
  },
  {
   "cell_type": "code",
   "execution_count": 31,
   "metadata": {},
   "outputs": [
    {
     "name": "stdout",
     "output_type": "stream",
     "text": [
      "<class 'pandas.core.frame.DataFrame'>\n",
      "Int64Index: 10000 entries, 1 to 10000\n",
      "Data columns (total 13 columns):\n",
      " #   Column           Non-Null Count  Dtype  \n",
      "---  ------           --------------  -----  \n",
      " 0   CustomerId       10000 non-null  int64  \n",
      " 1   Surname          10000 non-null  object \n",
      " 2   CreditScore      10000 non-null  int64  \n",
      " 3   Geography        10000 non-null  object \n",
      " 4   Gender           10000 non-null  object \n",
      " 5   Age              10000 non-null  int64  \n",
      " 6   Tenure           9091 non-null   float64\n",
      " 7   Balance          10000 non-null  float64\n",
      " 8   NumOfProducts    10000 non-null  int64  \n",
      " 9   HasCrCard        10000 non-null  int64  \n",
      " 10  IsActiveMember   10000 non-null  int64  \n",
      " 11  EstimatedSalary  10000 non-null  float64\n",
      " 12  Exited           10000 non-null  int64  \n",
      "dtypes: float64(3), int64(7), object(3)\n",
      "memory usage: 1.1+ MB\n"
     ]
    }
   ],
   "source": [
    "df.info()"
   ]
  },
  {
   "cell_type": "code",
   "execution_count": 32,
   "metadata": {},
   "outputs": [
    {
     "data": {
      "text/html": [
       "<div>\n",
       "<style scoped>\n",
       "    .dataframe tbody tr th:only-of-type {\n",
       "        vertical-align: middle;\n",
       "    }\n",
       "\n",
       "    .dataframe tbody tr th {\n",
       "        vertical-align: top;\n",
       "    }\n",
       "\n",
       "    .dataframe thead th {\n",
       "        text-align: right;\n",
       "    }\n",
       "</style>\n",
       "<table border=\"1\" class=\"dataframe\">\n",
       "  <thead>\n",
       "    <tr style=\"text-align: right;\">\n",
       "      <th></th>\n",
       "      <th>CustomerId</th>\n",
       "      <th>Surname</th>\n",
       "      <th>CreditScore</th>\n",
       "      <th>Geography</th>\n",
       "      <th>Gender</th>\n",
       "      <th>Age</th>\n",
       "      <th>Tenure</th>\n",
       "      <th>Balance</th>\n",
       "      <th>NumOfProducts</th>\n",
       "      <th>HasCrCard</th>\n",
       "      <th>IsActiveMember</th>\n",
       "      <th>EstimatedSalary</th>\n",
       "      <th>Exited</th>\n",
       "    </tr>\n",
       "  </thead>\n",
       "  <tbody>\n",
       "    <tr>\n",
       "      <th>count</th>\n",
       "      <td>10,000.00</td>\n",
       "      <td>10000</td>\n",
       "      <td>10,000.00</td>\n",
       "      <td>10000</td>\n",
       "      <td>10000</td>\n",
       "      <td>10,000.00</td>\n",
       "      <td>9,091.00</td>\n",
       "      <td>10,000.00</td>\n",
       "      <td>10,000.00</td>\n",
       "      <td>10,000.00</td>\n",
       "      <td>10,000.00</td>\n",
       "      <td>10,000.00</td>\n",
       "      <td>10,000.00</td>\n",
       "    </tr>\n",
       "    <tr>\n",
       "      <th>unique</th>\n",
       "      <td>NaN</td>\n",
       "      <td>2932</td>\n",
       "      <td>NaN</td>\n",
       "      <td>3</td>\n",
       "      <td>2</td>\n",
       "      <td>NaN</td>\n",
       "      <td>NaN</td>\n",
       "      <td>NaN</td>\n",
       "      <td>NaN</td>\n",
       "      <td>NaN</td>\n",
       "      <td>NaN</td>\n",
       "      <td>NaN</td>\n",
       "      <td>NaN</td>\n",
       "    </tr>\n",
       "    <tr>\n",
       "      <th>top</th>\n",
       "      <td>NaN</td>\n",
       "      <td>Smith</td>\n",
       "      <td>NaN</td>\n",
       "      <td>France</td>\n",
       "      <td>Male</td>\n",
       "      <td>NaN</td>\n",
       "      <td>NaN</td>\n",
       "      <td>NaN</td>\n",
       "      <td>NaN</td>\n",
       "      <td>NaN</td>\n",
       "      <td>NaN</td>\n",
       "      <td>NaN</td>\n",
       "      <td>NaN</td>\n",
       "    </tr>\n",
       "    <tr>\n",
       "      <th>freq</th>\n",
       "      <td>NaN</td>\n",
       "      <td>32</td>\n",
       "      <td>NaN</td>\n",
       "      <td>5014</td>\n",
       "      <td>5457</td>\n",
       "      <td>NaN</td>\n",
       "      <td>NaN</td>\n",
       "      <td>NaN</td>\n",
       "      <td>NaN</td>\n",
       "      <td>NaN</td>\n",
       "      <td>NaN</td>\n",
       "      <td>NaN</td>\n",
       "      <td>NaN</td>\n",
       "    </tr>\n",
       "    <tr>\n",
       "      <th>mean</th>\n",
       "      <td>15,690,940.57</td>\n",
       "      <td>NaN</td>\n",
       "      <td>650.53</td>\n",
       "      <td>NaN</td>\n",
       "      <td>NaN</td>\n",
       "      <td>38.92</td>\n",
       "      <td>5.00</td>\n",
       "      <td>76,485.89</td>\n",
       "      <td>1.53</td>\n",
       "      <td>0.71</td>\n",
       "      <td>0.52</td>\n",
       "      <td>100,090.24</td>\n",
       "      <td>0.20</td>\n",
       "    </tr>\n",
       "    <tr>\n",
       "      <th>std</th>\n",
       "      <td>71,936.19</td>\n",
       "      <td>NaN</td>\n",
       "      <td>96.65</td>\n",
       "      <td>NaN</td>\n",
       "      <td>NaN</td>\n",
       "      <td>10.49</td>\n",
       "      <td>2.89</td>\n",
       "      <td>62,397.41</td>\n",
       "      <td>0.58</td>\n",
       "      <td>0.46</td>\n",
       "      <td>0.50</td>\n",
       "      <td>57,510.49</td>\n",
       "      <td>0.40</td>\n",
       "    </tr>\n",
       "    <tr>\n",
       "      <th>min</th>\n",
       "      <td>15,565,701.00</td>\n",
       "      <td>NaN</td>\n",
       "      <td>350.00</td>\n",
       "      <td>NaN</td>\n",
       "      <td>NaN</td>\n",
       "      <td>18.00</td>\n",
       "      <td>0.00</td>\n",
       "      <td>0.00</td>\n",
       "      <td>1.00</td>\n",
       "      <td>0.00</td>\n",
       "      <td>0.00</td>\n",
       "      <td>11.58</td>\n",
       "      <td>0.00</td>\n",
       "    </tr>\n",
       "    <tr>\n",
       "      <th>25%</th>\n",
       "      <td>15,628,528.25</td>\n",
       "      <td>NaN</td>\n",
       "      <td>584.00</td>\n",
       "      <td>NaN</td>\n",
       "      <td>NaN</td>\n",
       "      <td>32.00</td>\n",
       "      <td>2.00</td>\n",
       "      <td>0.00</td>\n",
       "      <td>1.00</td>\n",
       "      <td>0.00</td>\n",
       "      <td>0.00</td>\n",
       "      <td>51,002.11</td>\n",
       "      <td>0.00</td>\n",
       "    </tr>\n",
       "    <tr>\n",
       "      <th>50%</th>\n",
       "      <td>15,690,738.00</td>\n",
       "      <td>NaN</td>\n",
       "      <td>652.00</td>\n",
       "      <td>NaN</td>\n",
       "      <td>NaN</td>\n",
       "      <td>37.00</td>\n",
       "      <td>5.00</td>\n",
       "      <td>97,198.54</td>\n",
       "      <td>1.00</td>\n",
       "      <td>1.00</td>\n",
       "      <td>1.00</td>\n",
       "      <td>100,193.91</td>\n",
       "      <td>0.00</td>\n",
       "    </tr>\n",
       "    <tr>\n",
       "      <th>75%</th>\n",
       "      <td>15,753,233.75</td>\n",
       "      <td>NaN</td>\n",
       "      <td>718.00</td>\n",
       "      <td>NaN</td>\n",
       "      <td>NaN</td>\n",
       "      <td>44.00</td>\n",
       "      <td>7.00</td>\n",
       "      <td>127,644.24</td>\n",
       "      <td>2.00</td>\n",
       "      <td>1.00</td>\n",
       "      <td>1.00</td>\n",
       "      <td>149,388.25</td>\n",
       "      <td>0.00</td>\n",
       "    </tr>\n",
       "    <tr>\n",
       "      <th>max</th>\n",
       "      <td>15,815,690.00</td>\n",
       "      <td>NaN</td>\n",
       "      <td>850.00</td>\n",
       "      <td>NaN</td>\n",
       "      <td>NaN</td>\n",
       "      <td>92.00</td>\n",
       "      <td>10.00</td>\n",
       "      <td>250,898.09</td>\n",
       "      <td>4.00</td>\n",
       "      <td>1.00</td>\n",
       "      <td>1.00</td>\n",
       "      <td>199,992.48</td>\n",
       "      <td>1.00</td>\n",
       "    </tr>\n",
       "  </tbody>\n",
       "</table>\n",
       "</div>"
      ],
      "text/plain": [
       "          CustomerId Surname  CreditScore Geography Gender       Age   Tenure  \\\n",
       "count      10,000.00   10000    10,000.00     10000  10000 10,000.00 9,091.00   \n",
       "unique           NaN    2932          NaN         3      2       NaN      NaN   \n",
       "top              NaN   Smith          NaN    France   Male       NaN      NaN   \n",
       "freq             NaN      32          NaN      5014   5457       NaN      NaN   \n",
       "mean   15,690,940.57     NaN       650.53       NaN    NaN     38.92     5.00   \n",
       "std        71,936.19     NaN        96.65       NaN    NaN     10.49     2.89   \n",
       "min    15,565,701.00     NaN       350.00       NaN    NaN     18.00     0.00   \n",
       "25%    15,628,528.25     NaN       584.00       NaN    NaN     32.00     2.00   \n",
       "50%    15,690,738.00     NaN       652.00       NaN    NaN     37.00     5.00   \n",
       "75%    15,753,233.75     NaN       718.00       NaN    NaN     44.00     7.00   \n",
       "max    15,815,690.00     NaN       850.00       NaN    NaN     92.00    10.00   \n",
       "\n",
       "          Balance  NumOfProducts  HasCrCard  IsActiveMember  EstimatedSalary  \\\n",
       "count   10,000.00      10,000.00  10,000.00       10,000.00        10,000.00   \n",
       "unique        NaN            NaN        NaN             NaN              NaN   \n",
       "top           NaN            NaN        NaN             NaN              NaN   \n",
       "freq          NaN            NaN        NaN             NaN              NaN   \n",
       "mean    76,485.89           1.53       0.71            0.52       100,090.24   \n",
       "std     62,397.41           0.58       0.46            0.50        57,510.49   \n",
       "min          0.00           1.00       0.00            0.00            11.58   \n",
       "25%          0.00           1.00       0.00            0.00        51,002.11   \n",
       "50%     97,198.54           1.00       1.00            1.00       100,193.91   \n",
       "75%    127,644.24           2.00       1.00            1.00       149,388.25   \n",
       "max    250,898.09           4.00       1.00            1.00       199,992.48   \n",
       "\n",
       "          Exited  \n",
       "count  10,000.00  \n",
       "unique       NaN  \n",
       "top          NaN  \n",
       "freq         NaN  \n",
       "mean        0.20  \n",
       "std         0.40  \n",
       "min         0.00  \n",
       "25%         0.00  \n",
       "50%         0.00  \n",
       "75%         0.00  \n",
       "max         1.00  "
      ]
     },
     "execution_count": 32,
     "metadata": {},
     "output_type": "execute_result"
    }
   ],
   "source": [
    "df.describe(include='all')"
   ]
  },
  {
   "cell_type": "markdown",
   "metadata": {},
   "source": [
    "**Каждый объект в наборе данных — это информация о поведении одного пользователя за месяц.**\n",
    "\n",
    "Описание данных:\n",
    "- RowNumber — индекс строки в данных\n",
    "- CustomerId — уникальный идентификатор клиента\n",
    "- Surname — фамилия\n",
    "- CreditScore — кредитный рейтинг\n",
    "- Geography — страна проживания\n",
    "- Gender — пол\n",
    "- Age — возраст\n",
    "- Tenure — сколько лет человек является клиентом банка\n",
    "- Balance — баланс на счёте\n",
    "- NumOfProducts — количество продуктов банка, используемых клиентом\n",
    "- HasCrCard — наличие кредитной карты\n",
    "- IsActiveMember — активность клиента\n",
    "- EstimatedSalary — предполагаемая зарплата\n",
    "\n",
    "**- Целевой признак Exited — факт ухода клиента**"
   ]
  },
  {
   "cell_type": "code",
   "execution_count": 33,
   "metadata": {},
   "outputs": [
    {
     "data": {
      "text/plain": [
       "CustomerId           int64\n",
       "Surname             object\n",
       "CreditScore          int64\n",
       "Geography           object\n",
       "Gender              object\n",
       "Age                  int64\n",
       "Tenure             float64\n",
       "Balance            float64\n",
       "NumOfProducts        int64\n",
       "HasCrCard            int64\n",
       "IsActiveMember       int64\n",
       "EstimatedSalary    float64\n",
       "Exited               int64\n",
       "dtype: object"
      ]
     },
     "execution_count": 33,
     "metadata": {},
     "output_type": "execute_result"
    }
   ],
   "source": [
    "# Посмотрим тип данных в столбцах\n",
    "df.dtypes"
   ]
  },
  {
   "cell_type": "code",
   "execution_count": 34,
   "metadata": {},
   "outputs": [
    {
     "data": {
      "text/plain": [
       "France     5014\n",
       "Germany    2509\n",
       "Spain      2477\n",
       "Name: Geography, dtype: int64"
      ]
     },
     "execution_count": 34,
     "metadata": {},
     "output_type": "execute_result"
    }
   ],
   "source": [
    "# Посмотрим значения по столбцу Geography\n",
    "df['Geography'].value_counts()"
   ]
  },
  {
   "cell_type": "code",
   "execution_count": 35,
   "metadata": {},
   "outputs": [
    {
     "data": {
      "text/plain": [
       "Male      5457\n",
       "Female    4543\n",
       "Name: Gender, dtype: int64"
      ]
     },
     "execution_count": 35,
     "metadata": {},
     "output_type": "execute_result"
    }
   ],
   "source": [
    "# Посмотрим значения по столбцу Gender\n",
    "df['Gender'].value_counts()"
   ]
  },
  {
   "cell_type": "code",
   "execution_count": 36,
   "metadata": {},
   "outputs": [
    {
     "data": {
      "text/html": [
       "<div>\n",
       "<style scoped>\n",
       "    .dataframe tbody tr th:only-of-type {\n",
       "        vertical-align: middle;\n",
       "    }\n",
       "\n",
       "    .dataframe tbody tr th {\n",
       "        vertical-align: top;\n",
       "    }\n",
       "\n",
       "    .dataframe thead th {\n",
       "        text-align: right;\n",
       "    }\n",
       "</style>\n",
       "<table border=\"1\" class=\"dataframe\">\n",
       "  <thead>\n",
       "    <tr style=\"text-align: right;\">\n",
       "      <th></th>\n",
       "      <th>CreditScore</th>\n",
       "      <th>Geography</th>\n",
       "      <th>Gender</th>\n",
       "      <th>Age</th>\n",
       "      <th>Tenure</th>\n",
       "      <th>Balance</th>\n",
       "      <th>NumOfProducts</th>\n",
       "      <th>HasCrCard</th>\n",
       "      <th>IsActiveMember</th>\n",
       "      <th>EstimatedSalary</th>\n",
       "      <th>Exited</th>\n",
       "    </tr>\n",
       "    <tr>\n",
       "      <th>RowNumber</th>\n",
       "      <th></th>\n",
       "      <th></th>\n",
       "      <th></th>\n",
       "      <th></th>\n",
       "      <th></th>\n",
       "      <th></th>\n",
       "      <th></th>\n",
       "      <th></th>\n",
       "      <th></th>\n",
       "      <th></th>\n",
       "      <th></th>\n",
       "    </tr>\n",
       "  </thead>\n",
       "  <tbody>\n",
       "    <tr>\n",
       "      <th>1</th>\n",
       "      <td>619</td>\n",
       "      <td>France</td>\n",
       "      <td>Female</td>\n",
       "      <td>42</td>\n",
       "      <td>2.00</td>\n",
       "      <td>0.00</td>\n",
       "      <td>1</td>\n",
       "      <td>1</td>\n",
       "      <td>1</td>\n",
       "      <td>101,348.88</td>\n",
       "      <td>1</td>\n",
       "    </tr>\n",
       "    <tr>\n",
       "      <th>2</th>\n",
       "      <td>608</td>\n",
       "      <td>Spain</td>\n",
       "      <td>Female</td>\n",
       "      <td>41</td>\n",
       "      <td>1.00</td>\n",
       "      <td>83,807.86</td>\n",
       "      <td>1</td>\n",
       "      <td>0</td>\n",
       "      <td>1</td>\n",
       "      <td>112,542.58</td>\n",
       "      <td>0</td>\n",
       "    </tr>\n",
       "    <tr>\n",
       "      <th>3</th>\n",
       "      <td>502</td>\n",
       "      <td>France</td>\n",
       "      <td>Female</td>\n",
       "      <td>42</td>\n",
       "      <td>8.00</td>\n",
       "      <td>159,660.80</td>\n",
       "      <td>3</td>\n",
       "      <td>1</td>\n",
       "      <td>0</td>\n",
       "      <td>113,931.57</td>\n",
       "      <td>1</td>\n",
       "    </tr>\n",
       "    <tr>\n",
       "      <th>4</th>\n",
       "      <td>699</td>\n",
       "      <td>France</td>\n",
       "      <td>Female</td>\n",
       "      <td>39</td>\n",
       "      <td>1.00</td>\n",
       "      <td>0.00</td>\n",
       "      <td>2</td>\n",
       "      <td>0</td>\n",
       "      <td>0</td>\n",
       "      <td>93,826.63</td>\n",
       "      <td>0</td>\n",
       "    </tr>\n",
       "    <tr>\n",
       "      <th>5</th>\n",
       "      <td>850</td>\n",
       "      <td>Spain</td>\n",
       "      <td>Female</td>\n",
       "      <td>43</td>\n",
       "      <td>2.00</td>\n",
       "      <td>125,510.82</td>\n",
       "      <td>1</td>\n",
       "      <td>1</td>\n",
       "      <td>1</td>\n",
       "      <td>79,084.10</td>\n",
       "      <td>0</td>\n",
       "    </tr>\n",
       "  </tbody>\n",
       "</table>\n",
       "</div>"
      ],
      "text/plain": [
       "           CreditScore Geography  Gender  Age  Tenure    Balance  \\\n",
       "RowNumber                                                          \n",
       "1                  619    France  Female   42    2.00       0.00   \n",
       "2                  608     Spain  Female   41    1.00  83,807.86   \n",
       "3                  502    France  Female   42    8.00 159,660.80   \n",
       "4                  699    France  Female   39    1.00       0.00   \n",
       "5                  850     Spain  Female   43    2.00 125,510.82   \n",
       "\n",
       "           NumOfProducts  HasCrCard  IsActiveMember  EstimatedSalary  Exited  \n",
       "RowNumber                                                                     \n",
       "1                      1          1               1       101,348.88       1  \n",
       "2                      1          0               1       112,542.58       0  \n",
       "3                      3          1               0       113,931.57       1  \n",
       "4                      2          0               0        93,826.63       0  \n",
       "5                      1          1               1        79,084.10       0  "
      ]
     },
     "execution_count": 36,
     "metadata": {},
     "output_type": "execute_result"
    }
   ],
   "source": [
    "# удалим колонки CustomerId, Surname. Предполагаем, что id и фамилия клиента не влияют на факт ухода клиента\n",
    "df.drop(columns=['CustomerId', 'Surname'],axis=1,inplace=True)\n",
    "df.head(5)"
   ]
  },
  {
   "cell_type": "code",
   "execution_count": 37,
   "metadata": {},
   "outputs": [
    {
     "data": {
      "text/html": [
       "<div>\n",
       "<style scoped>\n",
       "    .dataframe tbody tr th:only-of-type {\n",
       "        vertical-align: middle;\n",
       "    }\n",
       "\n",
       "    .dataframe tbody tr th {\n",
       "        vertical-align: top;\n",
       "    }\n",
       "\n",
       "    .dataframe thead th {\n",
       "        text-align: right;\n",
       "    }\n",
       "</style>\n",
       "<table border=\"1\" class=\"dataframe\">\n",
       "  <thead>\n",
       "    <tr style=\"text-align: right;\">\n",
       "      <th></th>\n",
       "      <th>CreditScore</th>\n",
       "      <th>Age</th>\n",
       "      <th>Tenure</th>\n",
       "      <th>Balance</th>\n",
       "      <th>NumOfProducts</th>\n",
       "      <th>HasCrCard</th>\n",
       "      <th>IsActiveMember</th>\n",
       "      <th>EstimatedSalary</th>\n",
       "      <th>Exited</th>\n",
       "      <th>Geography_Germany</th>\n",
       "      <th>Geography_Spain</th>\n",
       "      <th>Gender_Male</th>\n",
       "    </tr>\n",
       "    <tr>\n",
       "      <th>RowNumber</th>\n",
       "      <th></th>\n",
       "      <th></th>\n",
       "      <th></th>\n",
       "      <th></th>\n",
       "      <th></th>\n",
       "      <th></th>\n",
       "      <th></th>\n",
       "      <th></th>\n",
       "      <th></th>\n",
       "      <th></th>\n",
       "      <th></th>\n",
       "      <th></th>\n",
       "    </tr>\n",
       "  </thead>\n",
       "  <tbody>\n",
       "    <tr>\n",
       "      <th>1</th>\n",
       "      <td>619</td>\n",
       "      <td>42</td>\n",
       "      <td>2.00</td>\n",
       "      <td>0.00</td>\n",
       "      <td>1</td>\n",
       "      <td>1</td>\n",
       "      <td>1</td>\n",
       "      <td>101,348.88</td>\n",
       "      <td>1</td>\n",
       "      <td>0</td>\n",
       "      <td>0</td>\n",
       "      <td>0</td>\n",
       "    </tr>\n",
       "    <tr>\n",
       "      <th>2</th>\n",
       "      <td>608</td>\n",
       "      <td>41</td>\n",
       "      <td>1.00</td>\n",
       "      <td>83,807.86</td>\n",
       "      <td>1</td>\n",
       "      <td>0</td>\n",
       "      <td>1</td>\n",
       "      <td>112,542.58</td>\n",
       "      <td>0</td>\n",
       "      <td>0</td>\n",
       "      <td>1</td>\n",
       "      <td>0</td>\n",
       "    </tr>\n",
       "    <tr>\n",
       "      <th>3</th>\n",
       "      <td>502</td>\n",
       "      <td>42</td>\n",
       "      <td>8.00</td>\n",
       "      <td>159,660.80</td>\n",
       "      <td>3</td>\n",
       "      <td>1</td>\n",
       "      <td>0</td>\n",
       "      <td>113,931.57</td>\n",
       "      <td>1</td>\n",
       "      <td>0</td>\n",
       "      <td>0</td>\n",
       "      <td>0</td>\n",
       "    </tr>\n",
       "    <tr>\n",
       "      <th>4</th>\n",
       "      <td>699</td>\n",
       "      <td>39</td>\n",
       "      <td>1.00</td>\n",
       "      <td>0.00</td>\n",
       "      <td>2</td>\n",
       "      <td>0</td>\n",
       "      <td>0</td>\n",
       "      <td>93,826.63</td>\n",
       "      <td>0</td>\n",
       "      <td>0</td>\n",
       "      <td>0</td>\n",
       "      <td>0</td>\n",
       "    </tr>\n",
       "    <tr>\n",
       "      <th>5</th>\n",
       "      <td>850</td>\n",
       "      <td>43</td>\n",
       "      <td>2.00</td>\n",
       "      <td>125,510.82</td>\n",
       "      <td>1</td>\n",
       "      <td>1</td>\n",
       "      <td>1</td>\n",
       "      <td>79,084.10</td>\n",
       "      <td>0</td>\n",
       "      <td>0</td>\n",
       "      <td>1</td>\n",
       "      <td>0</td>\n",
       "    </tr>\n",
       "  </tbody>\n",
       "</table>\n",
       "</div>"
      ],
      "text/plain": [
       "           CreditScore  Age  Tenure    Balance  NumOfProducts  HasCrCard  \\\n",
       "RowNumber                                                                  \n",
       "1                  619   42    2.00       0.00              1          1   \n",
       "2                  608   41    1.00  83,807.86              1          0   \n",
       "3                  502   42    8.00 159,660.80              3          1   \n",
       "4                  699   39    1.00       0.00              2          0   \n",
       "5                  850   43    2.00 125,510.82              1          1   \n",
       "\n",
       "           IsActiveMember  EstimatedSalary  Exited  Geography_Germany  \\\n",
       "RowNumber                                                               \n",
       "1                       1       101,348.88       1                  0   \n",
       "2                       1       112,542.58       0                  0   \n",
       "3                       0       113,931.57       1                  0   \n",
       "4                       0        93,826.63       0                  0   \n",
       "5                       1        79,084.10       0                  0   \n",
       "\n",
       "           Geography_Spain  Gender_Male  \n",
       "RowNumber                                \n",
       "1                        0            0  \n",
       "2                        1            0  \n",
       "3                        0            0  \n",
       "4                        0            0  \n",
       "5                        1            0  "
      ]
     },
     "execution_count": 37,
     "metadata": {},
     "output_type": "execute_result"
    }
   ],
   "source": [
    "# Применим one hot encoding к датафрейму, что бы избежать \"ловушку фиктивных признаков\"\n",
    "df_ohe=pd.get_dummies(df, drop_first=True)\n",
    "df_ohe.head()"
   ]
  },
  {
   "cell_type": "code",
   "execution_count": 38,
   "metadata": {},
   "outputs": [
    {
     "data": {
      "text/plain": [
       "CreditScore            0\n",
       "Age                    0\n",
       "Tenure               909\n",
       "Balance                0\n",
       "NumOfProducts          0\n",
       "HasCrCard              0\n",
       "IsActiveMember         0\n",
       "EstimatedSalary        0\n",
       "Exited                 0\n",
       "Geography_Germany      0\n",
       "Geography_Spain        0\n",
       "Gender_Male            0\n",
       "dtype: int64"
      ]
     },
     "execution_count": 38,
     "metadata": {},
     "output_type": "execute_result"
    }
   ],
   "source": [
    "# Проверим, что в датафрейме отсутствуют пропущенные значения\n",
    "df_ohe.isna().sum()"
   ]
  },
  {
   "cell_type": "code",
   "execution_count": 39,
   "metadata": {},
   "outputs": [
    {
     "data": {
      "text/plain": [
       "count   9,091.00\n",
       "mean        5.00\n",
       "std         2.89\n",
       "min         0.00\n",
       "25%         2.00\n",
       "50%         5.00\n",
       "75%         7.00\n",
       "max        10.00\n",
       "Name: Tenure, dtype: float64"
      ]
     },
     "execution_count": 39,
     "metadata": {},
     "output_type": "execute_result"
    }
   ],
   "source": [
    "# посмотрим статистики по столбцу Tenure\n",
    "df_ohe['Tenure'].describe()"
   ]
  },
  {
   "cell_type": "code",
   "execution_count": 40,
   "metadata": {},
   "outputs": [
    {
     "data": {
      "text/plain": [
       "1.00     952\n",
       "2.00     950\n",
       "8.00     933\n",
       "3.00     928\n",
       "5.00     927\n",
       "7.00     925\n",
       "4.00     885\n",
       "9.00     882\n",
       "6.00     881\n",
       "10.00    446\n",
       "0.00     382\n",
       "Name: Tenure, dtype: int64"
      ]
     },
     "execution_count": 40,
     "metadata": {},
     "output_type": "execute_result"
    }
   ],
   "source": [
    "# посмотрим значения по столбцу Tenure\n",
    "df_ohe['Tenure'].value_counts()"
   ]
  },
  {
   "cell_type": "code",
   "execution_count": 41,
   "metadata": {},
   "outputs": [
    {
     "data": {
      "image/png": "[encoded data removed]",
      "text/plain": [
       "<Figure size 432x288 with 1 Axes>"
      ]
     },
     "metadata": {
      "needs_background": "light"
     },
     "output_type": "display_data"
    }
   ],
   "source": [
    "# построим гистограмму по столбцу Tenure\n",
    "tenure_hist = df_ohe['Tenure'].hist(bins=11)\n",
    "plt.title('Tenure')\n",
    "tenure_hist.set_ylabel('кредитный рейтинг')\n",
    "tenure_hist.set_xlabel('сколько лет человек является клиентом банка')\n",
    "plt.show()"
   ]
  },
  {
   "cell_type": "markdown",
   "metadata": {},
   "source": [
    "Значение 'Tenure' ни как не коррелирует с остальными значениями в данных. \n",
    "Система банка при формировании значения сколько лет, существует данный клиент, не заполняет значения \"0\". Т.е. 382 клиента пользуются услугами банка меньше года.\n",
    "Таким образом вывести закономерности не возможно. Просто присвоить медианное, среднее, min или max, тоже не правильно так как таких значений около 10% и мы можем изменить статистику данных. Удалить - мне кажется это тоже не самое верное решение. Потому, что таких значений хоть и меньше 10%, но все таки они логичгые по заполнению! Мы потерям коло 10% базы.\n",
    "Поэтому, все таки заполню их случайными числами."
   ]
  },
  {
   "cell_type": "code",
   "execution_count": 42,
   "metadata": {},
   "outputs": [],
   "source": [
    "df_ohe['Tenure']=df_ohe['Tenure'].fillna(df_ohe['Tenure'].median())"
   ]
  },
  {
   "cell_type": "code",
   "execution_count": 43,
   "metadata": {},
   "outputs": [],
   "source": [
    "#Заполним пропуски случайными значениями\n",
    "#data = (np.random.randint(0,10,size=df_ohe['Tenure'].isna().sum()))\n",
    "#df_ohe.loc[df_ohe['Tenure'].isna(),'Tenure']=data"
   ]
  },
  {
   "cell_type": "code",
   "execution_count": 44,
   "metadata": {},
   "outputs": [
    {
     "data": {
      "image/png": "[encoded data removed]",
      "text/plain": [
       "<Figure size 432x288 with 1 Axes>"
      ]
     },
     "metadata": {
      "needs_background": "light"
     },
     "output_type": "display_data"
    }
   ],
   "source": [
    "# Посмотрим повторно гистограмму по столбцу Tenure\n",
    "tenure_hist = df_ohe['Tenure'].hist(bins=11)\n",
    "plt.title('Tenure')\n",
    "tenure_hist.set_ylabel('кредитный рейтинг')\n",
    "tenure_hist.set_xlabel('сколько лет человек является клиентом банка')\n",
    "plt.show()"
   ]
  },
  {
   "cell_type": "code",
   "execution_count": 45,
   "metadata": {},
   "outputs": [
    {
     "data": {
      "text/plain": [
       "CreditScore          0\n",
       "Age                  0\n",
       "Tenure               0\n",
       "Balance              0\n",
       "NumOfProducts        0\n",
       "HasCrCard            0\n",
       "IsActiveMember       0\n",
       "EstimatedSalary      0\n",
       "Exited               0\n",
       "Geography_Germany    0\n",
       "Geography_Spain      0\n",
       "Gender_Male          0\n",
       "dtype: int64"
      ]
     },
     "execution_count": 45,
     "metadata": {},
     "output_type": "execute_result"
    }
   ],
   "source": [
    "#Еще раз проверим пропущенные значения\n",
    "df_ohe.isna().sum()"
   ]
  },
  {
   "cell_type": "code",
   "execution_count": 46,
   "metadata": {},
   "outputs": [],
   "source": [
    "# Создадим список с числовыми столбцами\n",
    "numeric = ['CreditScore','Age','Balance','NumOfProducts','EstimatedSalary','Tenure']"
   ]
  },
  {
   "cell_type": "code",
   "execution_count": 47,
   "metadata": {},
   "outputs": [
    {
     "data": {
      "image/png": "[encoded data removed]",
      "text/plain": [
       "<Figure size 936x720 with 2 Axes>"
      ]
     },
     "metadata": {
      "needs_background": "light"
     },
     "output_type": "display_data"
    }
   ],
   "source": [
    "fig, ax = plt.subplots(figsize=(13,10))\n",
    "heatmap = sns.heatmap(df_ohe.corr(), vmin=-1, vmax=1, annot=True, cmap='vlag')\n",
    "heatmap.set_title('Корреляционная тепловая карта')\n",
    "plt.show()"
   ]
  },
  {
   "cell_type": "markdown",
   "metadata": {},
   "source": [
    "Корреляции между числовыми столбцами не обнаружено, самое больше значение 0,4 это корреляция между Количеством продуктов и балансом на счете. Проверим наличие ложной корреляции, посмотрим скатерплоты"
   ]
  },
  {
   "cell_type": "code",
   "execution_count": 48,
   "metadata": {},
   "outputs": [
    {
     "data": {
      "image/png": "[encoded data removed]",
      "text/plain": [
       "<Figure size 1080x1080 with 36 Axes>"
      ]
     },
     "metadata": {
      "needs_background": "light"
     },
     "output_type": "display_data"
    }
   ],
   "source": [
    "pd.plotting.scatter_matrix(df_ohe.loc[:,numeric],figsize=(15,15))\n",
    "plt.show()"
   ]
  },
  {
   "cell_type": "markdown",
   "metadata": {},
   "source": [
    "По графикам так же не обнаружено ложной корреляции между столбцами, все числовые столбцы оставляем в датафрейме для обучения модели."
   ]
  },
  {
   "cell_type": "markdown",
   "metadata": {},
   "source": [
    "**Вывод:** Видно что данные достаточно хорошо подобраны для обучения студентов. Данных достаточно, распределения  аккуратны, мультиколлинеарности не наблюдается. Можно приступать к основной части задания."
   ]
  },
  {
   "cell_type": "markdown",
   "metadata": {},
   "source": [
    "## Исследование задачи"
   ]
  },
  {
   "cell_type": "code",
   "execution_count": 49,
   "metadata": {},
   "outputs": [],
   "source": [
    "#Сохраним признаки\n",
    "#целевой признак\n",
    "target = df_ohe['Exited']\n",
    "#признаки\n",
    "features = df_ohe.drop(['Exited'], axis=1)"
   ]
  },
  {
   "cell_type": "code",
   "execution_count": 50,
   "metadata": {},
   "outputs": [],
   "source": [
    "#Зафиксируем randome_state\n",
    "np.random.seed(274)\n",
    "RANDOM_STATE = 42"
   ]
  },
  {
   "cell_type": "code",
   "execution_count": 51,
   "metadata": {},
   "outputs": [
    {
     "name": "stdout",
     "output_type": "stream",
     "text": [
      "Отток: 2037\n",
      "Не отток: 7963\n"
     ]
    }
   ],
   "source": [
    "#Посчитаем количество значений в целевом признаке, это покажет баланс значений.\n",
    "churn_count = df_ohe[target == 1].shape[0]\n",
    "non_churn_count = df_ohe[target == 0].shape[0]\n",
    "print('Отток:', churn_count)\n",
    "print('Не отток:', non_churn_count)"
   ]
  },
  {
   "cell_type": "markdown",
   "metadata": {},
   "source": [
    "**Видно, что классы несбалансированы, гораздо больше пользователей соответсвующих классу \"не отток\". Дисбкаланс классов может повлиять на обучение моделей. Сначала проверим модели как есть, с присутствующим дисбалансом.**"
   ]
  },
  {
   "cell_type": "code",
   "execution_count": 52,
   "metadata": {},
   "outputs": [
    {
     "name": "stdout",
     "output_type": "stream",
     "text": [
      "(6000, 11) (2000, 11) (2000, 11)\n",
      "(6000,) (2000,) (2000,)\n"
     ]
    }
   ],
   "source": [
    "#разобьем исходные данные на три выборки: обучающую, валидационную (проверочную) и тестовую (60% / 20% / 20%)\n",
    "features_train, features_valid, target_train, target_valid = train_test_split(features, target, test_size=0.4, \n",
    "                                                                              random_state=12345, stratify=target)\n",
    "features_valid, features_test, target_valid, target_test = train_test_split(features_valid, target_valid, test_size=0.5, \n",
    "                                                                              random_state=12345, stratify=target_valid)\n",
    "print(features_train.shape, features_valid.shape, features_test.shape)\n",
    "print(target_train.shape, target_valid.shape, target_test.shape)"
   ]
  },
  {
   "cell_type": "markdown",
   "metadata": {},
   "source": [
    "В результате получили три набора данных: обучающий,валидационный и тестовый.\n",
    "Теперь можно приступить к обучению, но сначала стандартизируем признаки:"
   ]
  },
  {
   "cell_type": "code",
   "execution_count": 53,
   "metadata": {},
   "outputs": [],
   "source": [
    "#стандартизируем признаки\n",
    "scaler = StandardScaler()\n",
    "scaler.fit(features_train[numeric])\n",
    "features_train[numeric] = scaler.transform(features_train[numeric])\n",
    "features_valid[numeric] = scaler.transform(features_valid[numeric])\n",
    "features_test[numeric] = scaler.transform(features_test[numeric])"
   ]
  },
  {
   "cell_type": "code",
   "execution_count": 54,
   "metadata": {},
   "outputs": [
    {
     "data": {
      "text/html": [
       "<div>\n",
       "<style scoped>\n",
       "    .dataframe tbody tr th:only-of-type {\n",
       "        vertical-align: middle;\n",
       "    }\n",
       "\n",
       "    .dataframe tbody tr th {\n",
       "        vertical-align: top;\n",
       "    }\n",
       "\n",
       "    .dataframe thead th {\n",
       "        text-align: right;\n",
       "    }\n",
       "</style>\n",
       "<table border=\"1\" class=\"dataframe\">\n",
       "  <thead>\n",
       "    <tr style=\"text-align: right;\">\n",
       "      <th></th>\n",
       "      <th>CreditScore</th>\n",
       "      <th>Age</th>\n",
       "      <th>Tenure</th>\n",
       "      <th>Balance</th>\n",
       "      <th>NumOfProducts</th>\n",
       "      <th>HasCrCard</th>\n",
       "      <th>IsActiveMember</th>\n",
       "      <th>EstimatedSalary</th>\n",
       "      <th>Geography_Germany</th>\n",
       "      <th>Geography_Spain</th>\n",
       "      <th>Gender_Male</th>\n",
       "    </tr>\n",
       "    <tr>\n",
       "      <th>RowNumber</th>\n",
       "      <th></th>\n",
       "      <th></th>\n",
       "      <th></th>\n",
       "      <th></th>\n",
       "      <th></th>\n",
       "      <th></th>\n",
       "      <th></th>\n",
       "      <th></th>\n",
       "      <th></th>\n",
       "      <th></th>\n",
       "      <th></th>\n",
       "    </tr>\n",
       "  </thead>\n",
       "  <tbody>\n",
       "    <tr>\n",
       "      <th>658</th>\n",
       "      <td>-0.50</td>\n",
       "      <td>1.43</td>\n",
       "      <td>-1.46</td>\n",
       "      <td>0.87</td>\n",
       "      <td>0.82</td>\n",
       "      <td>1</td>\n",
       "      <td>1</td>\n",
       "      <td>1.73</td>\n",
       "      <td>1</td>\n",
       "      <td>0</td>\n",
       "      <td>0</td>\n",
       "    </tr>\n",
       "    <tr>\n",
       "      <th>2084</th>\n",
       "      <td>-1.20</td>\n",
       "      <td>-1.43</td>\n",
       "      <td>-1.46</td>\n",
       "      <td>-1.22</td>\n",
       "      <td>-0.91</td>\n",
       "      <td>1</td>\n",
       "      <td>1</td>\n",
       "      <td>1.20</td>\n",
       "      <td>0</td>\n",
       "      <td>0</td>\n",
       "      <td>1</td>\n",
       "    </tr>\n",
       "    <tr>\n",
       "      <th>3235</th>\n",
       "      <td>-1.27</td>\n",
       "      <td>0.76</td>\n",
       "      <td>-1.46</td>\n",
       "      <td>-1.22</td>\n",
       "      <td>-0.91</td>\n",
       "      <td>1</td>\n",
       "      <td>0</td>\n",
       "      <td>-1.37</td>\n",
       "      <td>0</td>\n",
       "      <td>0</td>\n",
       "      <td>1</td>\n",
       "    </tr>\n",
       "    <tr>\n",
       "      <th>1552</th>\n",
       "      <td>0.83</td>\n",
       "      <td>1.24</td>\n",
       "      <td>0.72</td>\n",
       "      <td>-1.22</td>\n",
       "      <td>0.82</td>\n",
       "      <td>0</td>\n",
       "      <td>1</td>\n",
       "      <td>0.38</td>\n",
       "      <td>0</td>\n",
       "      <td>1</td>\n",
       "      <td>0</td>\n",
       "    </tr>\n",
       "    <tr>\n",
       "      <th>2345</th>\n",
       "      <td>0.66</td>\n",
       "      <td>0.95</td>\n",
       "      <td>-0.37</td>\n",
       "      <td>0.27</td>\n",
       "      <td>-0.91</td>\n",
       "      <td>1</td>\n",
       "      <td>0</td>\n",
       "      <td>-1.61</td>\n",
       "      <td>1</td>\n",
       "      <td>0</td>\n",
       "      <td>0</td>\n",
       "    </tr>\n",
       "  </tbody>\n",
       "</table>\n",
       "</div>"
      ],
      "text/plain": [
       "           CreditScore   Age  Tenure  Balance  NumOfProducts  HasCrCard  \\\n",
       "RowNumber                                                                 \n",
       "658              -0.50  1.43   -1.46     0.87           0.82          1   \n",
       "2084             -1.20 -1.43   -1.46    -1.22          -0.91          1   \n",
       "3235             -1.27  0.76   -1.46    -1.22          -0.91          1   \n",
       "1552              0.83  1.24    0.72    -1.22           0.82          0   \n",
       "2345              0.66  0.95   -0.37     0.27          -0.91          1   \n",
       "\n",
       "           IsActiveMember  EstimatedSalary  Geography_Germany  \\\n",
       "RowNumber                                                       \n",
       "658                     1             1.73                  1   \n",
       "2084                    1             1.20                  0   \n",
       "3235                    0            -1.37                  0   \n",
       "1552                    1             0.38                  0   \n",
       "2345                    0            -1.61                  1   \n",
       "\n",
       "           Geography_Spain  Gender_Male  \n",
       "RowNumber                                \n",
       "658                      0            0  \n",
       "2084                     0            1  \n",
       "3235                     0            1  \n",
       "1552                     1            0  \n",
       "2345                     0            0  "
      ]
     },
     "execution_count": 54,
     "metadata": {},
     "output_type": "execute_result"
    }
   ],
   "source": [
    "features_test.head(5)"
   ]
  },
  {
   "cell_type": "markdown",
   "metadata": {},
   "source": [
    "**Построим модели и посчитаем их метрики.** \n",
    "Будем использовать следующие модели:\n",
    "\n",
    "- Случайный лес (RandomForestClassifier);\n",
    "- Модель решающего дерева, (DecisionTreeClassifier);\n",
    "- Логистическая регрессия, (LogisticRegression);\n",
    "\n",
    "Для начала обучим модели с несбалансированными классами, посмотрим что получится и после приступим к работе с балансировкой."
   ]
  },
  {
   "cell_type": "code",
   "execution_count": 55,
   "metadata": {},
   "outputs": [],
   "source": [
    "# лучшая модель\n",
    "best_model = None\n",
    "best_result = 0"
   ]
  },
  {
   "cell_type": "markdown",
   "metadata": {},
   "source": [
    "**Модель решающего дерева**"
   ]
  },
  {
   "cell_type": "code",
   "execution_count": 56,
   "metadata": {},
   "outputs": [
    {
     "name": "stdout",
     "output_type": "stream",
     "text": [
      "Лучшая F1-мера: 0.5937\n",
      "Оптимальное значение глубины дерева: 7\n"
     ]
    }
   ],
   "source": [
    "# лучший результат\n",
    "DecisionTree_result = 0\n",
    "# глубина дерева\n",
    "DecisionTree_depth = 0\n",
    "\n",
    "# найдем оптимальные значения гиперпараметров в цикле\n",
    "for depth in range(1, 50):\n",
    "    #модель решающего дерева\n",
    "    model = DecisionTreeClassifier(random_state=RANDOM_STATE, max_depth=depth)\n",
    "    model.fit(features_train, target_train)\n",
    "    \n",
    "    # посчитаем качество модели на валидационной выборке\n",
    "    predictions = model.predict(features_valid)\n",
    "    result = f1_score(target_valid, predictions)\n",
    "    \n",
    "    # сравним результаты\n",
    "    if result > DecisionTree_result:\n",
    "        DecisionTree_result = result\n",
    "        DecisionTree_depth = depth\n",
    "    \n",
    "if DecisionTree_result > best_result:\n",
    "    best_result = DecisionTree_result\n",
    "    best_model = model\n",
    "\n",
    "        \n",
    "print('Лучшая F1-мера:', f'{DecisionTree_result:.4f}')\n",
    "print('Оптимальное значение глубины дерева:', DecisionTree_depth)"
   ]
  },
  {
   "cell_type": "markdown",
   "metadata": {},
   "source": [
    "**Модель случайного леса**"
   ]
  },
  {
   "cell_type": "code",
   "execution_count": 57,
   "metadata": {},
   "outputs": [
    {
     "name": "stdout",
     "output_type": "stream",
     "text": [
      "Лучшая F1-мера:0.6263\n",
      "Оптимальная глубина дерева: 15\n",
      "Оптимальное количество деревьев: 45\n"
     ]
    }
   ],
   "source": [
    "# лучший результат\n",
    "RandomForest_result = 0\n",
    "# глубина дерева\n",
    "RandomForest_depth = 0\n",
    "# количество деревьев\n",
    "RandomForest_est = 0\n",
    "\n",
    "# найдем оптимальные значения гиперпараметров в цикле\n",
    "for est in range(5, 100, 5):\n",
    "    for depth in range(1, 20):\n",
    "        # модель леса\n",
    "        model = RandomForestClassifier(random_state=RANDOM_STATE, n_estimators=est, max_depth=depth)\n",
    "        model.fit(features_train, target_train)\n",
    "        \n",
    "        # посчитаем качество модели на валидационной выборке\n",
    "        predictions = model.predict(features_valid)\n",
    "        result = f1_score(target_valid, predictions)\n",
    "        \n",
    "        # сравним результаты\n",
    "        if result > RandomForest_result:\n",
    "            RandomForest_result = result\n",
    "            RandomForest_depth = depth\n",
    "            RandomForest_est = est\n",
    "        \n",
    "# сохраним в лучшую модель    \n",
    "if RandomForest_result > best_result:\n",
    "    best_result = RandomForest_result\n",
    "    best_model = model\n",
    "\n",
    "print('Лучшая F1-мера:' f'{RandomForest_result:.4f}')\n",
    "print('Оптимальная глубина дерева:', RandomForest_depth)\n",
    "print('Оптимальное количество деревьев:', RandomForest_est)"
   ]
  },
  {
   "cell_type": "markdown",
   "metadata": {},
   "source": [
    "**Модель логистической регрессии**"
   ]
  },
  {
   "cell_type": "code",
   "execution_count": 58,
   "metadata": {},
   "outputs": [
    {
     "name": "stdout",
     "output_type": "stream",
     "text": [
      "Лучшая F1-мера: 0.31\n",
      "Лучший алгоритм оптимизации: liblinear\n"
     ]
    }
   ],
   "source": [
    "# лучший результат\n",
    "LogisticRegression_result = 0\n",
    "\n",
    "# лучший алгоритм оптимизации\n",
    "solver = ['sag', 'saga', 'newton-cg', 'lbfgs', 'liblinear']\n",
    "best_solver = []\n",
    "\n",
    "for i in range(len(solver)):\n",
    "    # модель логистической регрессии\n",
    "    model = LogisticRegression(random_state=RANDOM_STATE, solver=solver[i], max_iter=500)\n",
    "    model.fit(features_train, target_train)\n",
    "\n",
    "    # посчитаем качество модели на валидационной выборке\n",
    "    predictions = model.predict(features_valid)\n",
    "    result = f1_score(target_valid, predictions)\n",
    "    \n",
    "    # сравним результаты\n",
    "    if result > LogisticRegression_result:\n",
    "        LogisticRegression_result = result\n",
    "        best_solver = solver[i]\n",
    "                \n",
    "# сохраним в лучшую модель    \n",
    "if LogisticRegression_result > best_result:\n",
    "    best_result = LogisticRegression_result\n",
    "    best_model = model\n",
    "    \n",
    "print('Лучшая F1-мера:',f'{LogisticRegression_result:.2f}')\n",
    "print('Лучший алгоритм оптимизации:', best_solver)"
   ]
  },
  {
   "cell_type": "markdown",
   "metadata": {},
   "source": [
    "**Вывод**"
   ]
  },
  {
   "cell_type": "code",
   "execution_count": 59,
   "metadata": {},
   "outputs": [
    {
     "name": "stdout",
     "output_type": "stream",
     "text": [
      "Лучшая F1-мера на обучающей выборке у RandomForestClassifier(max_depth=19, n_estimators=95, random_state=42) с результатом: 0.6263\n"
     ]
    }
   ],
   "source": [
    "print('Лучшая F1-мера на обучающей выборке у', best_model,\n",
    "      'с результатом:', f'{best_result:.4f}')"
   ]
  },
  {
   "cell_type": "code",
   "execution_count": 60,
   "metadata": {},
   "outputs": [
    {
     "name": "stdout",
     "output_type": "stream",
     "text": [
      "AUC-ROC = 0.8621\n"
     ]
    }
   ],
   "source": [
    "raw_probabilities_valid = best_model.predict_proba(features_valid)\n",
    "raw_probabilities_one_valid = raw_probabilities_valid[:, 1]\n",
    "\n",
    "fpr, tpr, thresholds = roc_curve(target_valid, raw_probabilities_one_valid)\n",
    "raw_auc_roc = roc_auc_score(target_valid, raw_probabilities_one_valid)\n",
    "\n",
    "print('AUC-ROC =', f'{raw_auc_roc:.4f}')"
   ]
  },
  {
   "cell_type": "markdown",
   "metadata": {},
   "source": [
    "В несбалансированных классах лучшей моделью оказался случайный лес. AUC-ROC лучшей несбалансированной модели - 0.8626\n",
    "\n",
    "Переходим к борьбе с дисбалансом."
   ]
  },
  {
   "cell_type": "markdown",
   "metadata": {},
   "source": [
    "## Борьба с дисбалансом"
   ]
  },
  {
   "cell_type": "markdown",
   "metadata": {},
   "source": [
    "Несбалансированные по классам выборки приводят к различным проблемам при обучении моделей. Для решения этой проблемы попробуем по-разному изменять вес значений классов \"отток\", \"не отток\".\n",
    "1. используем `Upsampling`;\n",
    "2. затем `Downsampling`;\n",
    "3. и взвесим `class_weight='balanced'`"
   ]
  },
  {
   "cell_type": "markdown",
   "metadata": {},
   "source": [
    "**Upsampling**"
   ]
  },
  {
   "cell_type": "code",
   "execution_count": 61,
   "metadata": {},
   "outputs": [
    {
     "name": "stdout",
     "output_type": "stream",
     "text": [
      "1    6110\n",
      "0    4778\n",
      "Name: Exited, dtype: int64\n"
     ]
    }
   ],
   "source": [
    "# увеличим вес значения \"отток\".\n",
    "def upsample(features, target, repeat):\n",
    "    features_zeros = features[target == 0]\n",
    "    features_ones = features[target == 1]\n",
    "    target_zeros = target[target == 0]\n",
    "    target_ones = target[target == 1]\n",
    "    features_upsampled = pd.concat([features_zeros] + [features_ones] * repeat)\n",
    "    target_upsampled = pd.concat([target_zeros] + [target_ones] * repeat)\n",
    "    features_upsampled, target_upsampled = shuffle(\n",
    "        features_upsampled, target_upsampled, random_state=12345)\n",
    "    return features_upsampled, target_upsampled\n",
    "\n",
    "features_upsampled, target_upsampled = upsample(features_train, target_train, 5)\n",
    "\n",
    "\n",
    "print(target_upsampled.value_counts())"
   ]
  },
  {
   "cell_type": "code",
   "execution_count": 62,
   "metadata": {},
   "outputs": [],
   "source": [
    "# лучшая модель\n",
    "best_up_model = None\n",
    "best_up_result = 0"
   ]
  },
  {
   "cell_type": "markdown",
   "metadata": {},
   "source": [
    "**Модель решающего дерева**"
   ]
  },
  {
   "cell_type": "code",
   "execution_count": 63,
   "metadata": {},
   "outputs": [
    {
     "name": "stdout",
     "output_type": "stream",
     "text": [
      "Лучшая F1-мера расширенной выборки: 0.5763\n",
      "Оптимальное значение глубины дерева: 6\n"
     ]
    }
   ],
   "source": [
    "# лучший результат\n",
    "DecisionTree_up_result = 0\n",
    "# глубина дерева\n",
    "DecisionTree_up_depth = 0\n",
    "\n",
    "# найдем оптимальные значения гиперпараметров в цикле\n",
    "for depth in range(1, 50):\n",
    "    #модель решающего дерева\n",
    "    model = DecisionTreeClassifier(random_state=RANDOM_STATE, max_depth=depth)\n",
    "    model.fit(features_upsampled, target_upsampled)\n",
    "    \n",
    "    # посчитаем качество модели на валидационной выборке\n",
    "    predictions = model.predict(features_valid)\n",
    "    result = f1_score(target_valid, predictions)\n",
    "    \n",
    "    # сравним результаты\n",
    "    if result > DecisionTree_up_result:\n",
    "        DecisionTree_up_result = result\n",
    "        DecisionTree_up_depth = depth\n",
    "    \n",
    "if DecisionTree_up_result > best_up_result:\n",
    "    best_up_result = DecisionTree_up_result\n",
    "    best_up_model = model\n",
    "\n",
    "        \n",
    "print('Лучшая F1-мера расширенной выборки:', f'{DecisionTree_up_result:.4f}')\n",
    "print('Оптимальное значение глубины дерева:', DecisionTree_up_depth)"
   ]
  },
  {
   "cell_type": "markdown",
   "metadata": {},
   "source": [
    "**Модель случайного леса**"
   ]
  },
  {
   "cell_type": "code",
   "execution_count": 64,
   "metadata": {},
   "outputs": [
    {
     "name": "stdout",
     "output_type": "stream",
     "text": [
      "Лучшая F1-мера расширенной выборки:0.6463\n",
      "Оптимальная глубина дерева: 12\n",
      "Оптимальное количество деревьев: 50\n"
     ]
    }
   ],
   "source": [
    "# лучший результат\n",
    "RandomForest_up_result = 0\n",
    "# глубина дерева\n",
    "RandomForest_up_depth = 0\n",
    "# количество деревьев\n",
    "RandomForest_up_est = 0\n",
    "\n",
    "# найдем оптимальные значения гиперпараметров в цикле\n",
    "for est in range(5, 100, 5):\n",
    "    for depth in range(1, 20):\n",
    "        # модель леса\n",
    "        model = RandomForestClassifier(random_state=RANDOM_STATE, n_estimators=est, max_depth=depth)\n",
    "        model.fit(features_upsampled, target_upsampled)\n",
    "        \n",
    "        # посчитаем качество модели на валидационной выборке\n",
    "        predictions = model.predict(features_valid)\n",
    "        result = f1_score(target_valid, predictions)\n",
    "        \n",
    "        # сравним результаты\n",
    "        if result > RandomForest_up_result:\n",
    "            RandomForest_up_result = result\n",
    "            RandomForest_up_depth = depth\n",
    "            RandomForest_up_est = est\n",
    "        \n",
    "# сохраним в лучшую модель    \n",
    "if RandomForest_up_result > best_up_result:\n",
    "    best_up_result = RandomForest_up_result\n",
    "    best_up_model = model\n",
    "\n",
    "print('Лучшая F1-мера расширенной выборки:' f'{RandomForest_up_result:.4f}')\n",
    "print('Оптимальная глубина дерева:', RandomForest_up_depth)\n",
    "print('Оптимальное количество деревьев:', RandomForest_up_est)"
   ]
  },
  {
   "cell_type": "markdown",
   "metadata": {},
   "source": [
    "**Модель логистической регрессии**"
   ]
  },
  {
   "cell_type": "code",
   "execution_count": 65,
   "metadata": {},
   "outputs": [
    {
     "name": "stdout",
     "output_type": "stream",
     "text": [
      "Лучшая F1-мера расширенной выборки: 0.50\n",
      "Лучший алгоритм оптимизации: sag\n"
     ]
    }
   ],
   "source": [
    "# лучший результат\n",
    "LogisticRegression_up_result = 0\n",
    "\n",
    "# лучший алгоритм оптимизации\n",
    "solver = ['sag', 'saga', 'newton-cg', 'lbfgs', 'liblinear']\n",
    "best_up_solver = []\n",
    "\n",
    "for i in range(len(solver)):\n",
    "    # модель логистической регрессии\n",
    "    model = LogisticRegression(random_state=RANDOM_STATE, solver=solver[i], max_iter=500)\n",
    "    model.fit(features_upsampled, target_upsampled)\n",
    "\n",
    "    # посчитаем качество модели на валидационной выборке\n",
    "    predictions = model.predict(features_valid)\n",
    "    result = f1_score(target_valid, predictions)\n",
    "    \n",
    "    # сравним результаты\n",
    "    if result > LogisticRegression_up_result:\n",
    "        LogisticRegression_up_result = result\n",
    "        best_up_solver = solver[i]\n",
    "                \n",
    "# сохраним в лучшую модель    \n",
    "if LogisticRegression_up_result > best_result:\n",
    "    best_up_result = LogisticRegression_up_result\n",
    "    best_up_model = model\n",
    "    \n",
    "print('Лучшая F1-мера расширенной выборки:',f'{LogisticRegression_up_result:.2f}')\n",
    "print('Лучший алгоритм оптимизации:', best_up_solver)"
   ]
  },
  {
   "cell_type": "markdown",
   "metadata": {},
   "source": [
    "**Вывод**"
   ]
  },
  {
   "cell_type": "code",
   "execution_count": 66,
   "metadata": {},
   "outputs": [
    {
     "name": "stdout",
     "output_type": "stream",
     "text": [
      "Лучшая F1-мера на расширенной обучающей выборке у RandomForestClassifier(max_depth=19, n_estimators=95, random_state=42) с результатом: 0.6463\n"
     ]
    }
   ],
   "source": [
    "print('Лучшая F1-мера на расширенной обучающей выборке у', best_up_model,\n",
    "      'с результатом:', f'{best_up_result:.4f}')"
   ]
  },
  {
   "cell_type": "markdown",
   "metadata": {},
   "source": [
    "На увеличенной выборке две модели улучшили F1-меру, кроме решающего дерева."
   ]
  },
  {
   "cell_type": "code",
   "execution_count": 67,
   "metadata": {},
   "outputs": [
    {
     "name": "stdout",
     "output_type": "stream",
     "text": [
      "1    1222\n",
      "0     717\n",
      "Name: Exited, dtype: int64\n"
     ]
    }
   ],
   "source": [
    "# Уменьшаем количество значений целевого признака\n",
    "def downsample(features, target, fraction):\n",
    "    features_zeros = features[target == 0]\n",
    "    features_ones = features[target == 1]\n",
    "    target_zeros = target[target == 0]\n",
    "    target_ones = target[target == 1]\n",
    "    features_downsampled = pd.concat([features_zeros.sample(frac=fraction, random_state=12345)] + [features_ones])\n",
    "    target_downsampled = pd.concat([target_zeros.sample(frac=fraction, random_state=12345)] + [target_ones])\n",
    "    features_downsampled, target_downsampled = shuffle(features_downsampled, target_downsampled, random_state=12345)\n",
    "    return features_downsampled, target_downsampled\n",
    "\n",
    "features_downsampled, target_downsampled = downsample(features_train, target_train, 0.15)\n",
    "\n",
    "\n",
    "print(target_downsampled.value_counts())"
   ]
  },
  {
   "cell_type": "code",
   "execution_count": 68,
   "metadata": {},
   "outputs": [],
   "source": [
    "# лучшая модель\n",
    "best_down_model = None\n",
    "best_down_result = 0"
   ]
  },
  {
   "cell_type": "markdown",
   "metadata": {},
   "source": [
    "**Модель решающего дерева**"
   ]
  },
  {
   "cell_type": "code",
   "execution_count": 69,
   "metadata": {},
   "outputs": [
    {
     "name": "stdout",
     "output_type": "stream",
     "text": [
      "Лучшая F1-мера на уменьшеной выборке: 0.5546\n",
      "Оптимальное значение глубины дерева: 5\n"
     ]
    }
   ],
   "source": [
    "# лучший результат\n",
    "DecisionTree_down_result = 0\n",
    "# глубина дерева\n",
    "DecisionTree_down_depth = 0\n",
    "\n",
    "# найдем оптимальные значения гиперпараметров в цикле\n",
    "for depth in range(1, 50):\n",
    "    #модель решающего дерева\n",
    "    model = DecisionTreeClassifier(random_state=RANDOM_STATE, max_depth=depth)\n",
    "    model.fit(features_downsampled, target_downsampled)\n",
    "    \n",
    "    # посчитаем качество модели на валидационной выборке\n",
    "    predictions = model.predict(features_valid)\n",
    "    result = f1_score(target_valid, predictions)\n",
    "    \n",
    "    # сравним результаты\n",
    "    if result > DecisionTree_down_result:\n",
    "        DecisionTree_down_result = result\n",
    "        DecisionTree_down_depth = depth\n",
    "    \n",
    "if DecisionTree_result > best_down_result:\n",
    "    best_down_result = DecisionTree_down_result\n",
    "    best_down_model = model\n",
    "\n",
    "        \n",
    "print('Лучшая F1-мера на уменьшеной выборке:', f'{DecisionTree_down_result:.4f}')\n",
    "print('Оптимальное значение глубины дерева:', DecisionTree_down_depth)"
   ]
  },
  {
   "cell_type": "markdown",
   "metadata": {},
   "source": [
    "**Модель случайного леса**"
   ]
  },
  {
   "cell_type": "code",
   "execution_count": 70,
   "metadata": {},
   "outputs": [
    {
     "name": "stdout",
     "output_type": "stream",
     "text": [
      "Лучшая F1-мера на уменьшеной выборке:0.5463\n",
      "Оптимальная глубина дерева: 16\n",
      "Оптимальное количество деревьев: 40\n"
     ]
    }
   ],
   "source": [
    "# лучший результат\n",
    "RandomForest_down_result = 0\n",
    "# глубина дерева\n",
    "RandomForest_down_depth = 0\n",
    "# количество деревьев\n",
    "RandomForest_down_est = 0\n",
    "\n",
    "# найдем оптимальные значения гиперпараметров в цикле\n",
    "for est in range(5, 100, 5):\n",
    "    for depth in range(1, 20):\n",
    "        # модель леса\n",
    "        model = RandomForestClassifier(random_state=RANDOM_STATE, n_estimators=est, max_depth=depth)\n",
    "        model.fit(features_downsampled, target_downsampled)\n",
    "        \n",
    "        # посчитаем качество модели на валидационной выборке\n",
    "        predictions = model.predict(features_valid)\n",
    "        result = f1_score(target_valid, predictions)\n",
    "        \n",
    "        # сравним результаты\n",
    "        if result > RandomForest_down_result:\n",
    "            RandomForest_down_result = result\n",
    "            RandomForest_down_depth = depth\n",
    "            RandomForest_down_est = est\n",
    "        \n",
    "# сохраним в лучшую модель    \n",
    "if RandomForest_down_result > best_down_result:\n",
    "    best_down_result = RandomForest_down_result\n",
    "    best_down_model = model\n",
    "\n",
    "print('Лучшая F1-мера на уменьшеной выборке:' f'{RandomForest_down_result:.4f}')\n",
    "print('Оптимальная глубина дерева:', RandomForest_down_depth)\n",
    "print('Оптимальное количество деревьев:', RandomForest_down_est)"
   ]
  },
  {
   "cell_type": "markdown",
   "metadata": {},
   "source": [
    "**Модель логистической регрессии**"
   ]
  },
  {
   "cell_type": "code",
   "execution_count": 71,
   "metadata": {},
   "outputs": [
    {
     "name": "stdout",
     "output_type": "stream",
     "text": [
      "Лучшая F1-мера на уменьшеной выборке: 0.48\n",
      "Лучший алгоритм оптимизации: liblinear\n"
     ]
    }
   ],
   "source": [
    "# лучший результат\n",
    "LogisticRegression_down_result = 0\n",
    "\n",
    "# лучший алгоритм оптимизации\n",
    "solver = ['sag', 'saga', 'newton-cg', 'lbfgs', 'liblinear']\n",
    "best_down_solver = []\n",
    "\n",
    "for i in range(len(solver)):\n",
    "    # модель логистической регрессии\n",
    "    model = LogisticRegression(random_state=RANDOM_STATE, solver=solver[i], max_iter=500)\n",
    "    model.fit(features_downsampled, target_downsampled)\n",
    "\n",
    "    # посчитаем качество модели на валидационной выборке\n",
    "    predictions = model.predict(features_valid)\n",
    "    result = f1_score(target_valid, predictions)\n",
    "    \n",
    "    # сравним результаты\n",
    "    if result > LogisticRegression_down_result:\n",
    "        LogisticRegression_down_result = result\n",
    "        best_down_solver = solver[i]\n",
    "                \n",
    "# сохраним в лучшую модель    \n",
    "if LogisticRegression_down_result > best_down_result:\n",
    "    best_down_result = LogisticRegression_down_result\n",
    "    best_down_model = model\n",
    "    \n",
    "print('Лучшая F1-мера на уменьшеной выборке:',f'{LogisticRegression_down_result:.2f}')\n",
    "print('Лучший алгоритм оптимизации:', best_down_solver)"
   ]
  },
  {
   "cell_type": "markdown",
   "metadata": {},
   "source": [
    "**Вывод**"
   ]
  },
  {
   "cell_type": "code",
   "execution_count": 72,
   "metadata": {},
   "outputs": [
    {
     "name": "stdout",
     "output_type": "stream",
     "text": [
      "Лучшая F1-мера на уменьшеной обучающей выборке у DecisionTreeClassifier(max_depth=49, random_state=42) с результатом: 0.5546\n"
     ]
    }
   ],
   "source": [
    "print('Лучшая F1-мера на уменьшеной обучающей выборке у', best_down_model,\n",
    "      'с результатом:', f'{best_down_result:.4f}')"
   ]
  },
  {
   "cell_type": "markdown",
   "metadata": {},
   "source": [
    "Значительное падение F-меры на уменьшеной выборке у каждой модели. Разбаллансирока имеет значение и в данном случае это наглядно видно!"
   ]
  },
  {
   "cell_type": "markdown",
   "metadata": {},
   "source": [
    "**class_weight**"
   ]
  },
  {
   "cell_type": "code",
   "execution_count": 73,
   "metadata": {},
   "outputs": [],
   "source": [
    "# лучшая модель\n",
    "best_weight_model = None\n",
    "best_weight_result = 0"
   ]
  },
  {
   "cell_type": "markdown",
   "metadata": {},
   "source": [
    "**Модель решающего дерева**"
   ]
  },
  {
   "cell_type": "code",
   "execution_count": 74,
   "metadata": {},
   "outputs": [
    {
     "name": "stdout",
     "output_type": "stream",
     "text": [
      "Лучшая F1-мера с увеличенным весом редких объектов: 0.5754\n",
      "Оптимальное значение глубины дерева: 6\n"
     ]
    }
   ],
   "source": [
    "# лучший результат\n",
    "DecisionTree_weight_result = 0\n",
    "# глубина дерева\n",
    "DecisionTree_weight_depth = 0\n",
    "\n",
    "# найдем оптимальные значения гиперпараметров в цикле\n",
    "for depth in range(1, 50):\n",
    "    #модель решающего дерева\n",
    "    model = DecisionTreeClassifier(random_state=RANDOM_STATE, max_depth=depth, class_weight='balanced')\n",
    "    model.fit(features_train, target_train)\n",
    "    \n",
    "    # посчитаем качество модели на валидационной выборке\n",
    "    predictions = model.predict(features_valid)\n",
    "    result = f1_score(target_valid, predictions)\n",
    "    \n",
    "    # сравним результаты\n",
    "    if result > DecisionTree_weight_result:\n",
    "        DecisionTree_weight_result = result\n",
    "        DecisionTree_weight_depth = depth\n",
    "    \n",
    "if DecisionTree_weight_result > best_weight_result:\n",
    "    best_weight_result = DecisionTree_weight_result\n",
    "    best_weight_model = model\n",
    "\n",
    "        \n",
    "print('Лучшая F1-мера с увеличенным весом редких объектов:', f'{DecisionTree_weight_result:.4f}')\n",
    "print('Оптимальное значение глубины дерева:', DecisionTree_weight_depth)"
   ]
  },
  {
   "cell_type": "markdown",
   "metadata": {},
   "source": [
    "**Модель случайного леса**"
   ]
  },
  {
   "cell_type": "code",
   "execution_count": 75,
   "metadata": {},
   "outputs": [
    {
     "name": "stdout",
     "output_type": "stream",
     "text": [
      "Лучшая F1-мера с увеличенным весом редких объектов:0.6476\n",
      "Оптимальная глубина дерева: 9\n",
      "Оптимальное количество деревьев: 85\n"
     ]
    }
   ],
   "source": [
    "# лучший результат\n",
    "RandomForest_weight_result = 0\n",
    "# глубина дерева\n",
    "RandomForest_weight_depth = 0\n",
    "# количество деревьев\n",
    "RandomForest_weight_est = 0\n",
    "\n",
    "# найдем оптимальные значения гиперпараметров в цикле\n",
    "for est in range(5, 100, 5):\n",
    "    for depth in range(1, 20):\n",
    "        # модель леса\n",
    "        model = RandomForestClassifier(random_state=RANDOM_STATE, n_estimators=est, max_depth=depth, class_weight='balanced')\n",
    "        model.fit(features_train, target_train)\n",
    "        \n",
    "        # посчитаем качество модели на валидационной выборке\n",
    "        predictions = model.predict(features_valid)\n",
    "        result = f1_score(target_valid, predictions)\n",
    "        \n",
    "        # сравним результаты\n",
    "        if result > RandomForest_weight_result:\n",
    "            RandomForest_weight_result = result\n",
    "            RandomForest_weight_depth = depth\n",
    "            RandomForest_weight_est = est\n",
    "        \n",
    "# сохраним в лучшую модель    \n",
    "if RandomForest_weight_result > best_weight_result:\n",
    "    best_weight_result = RandomForest_weight_result\n",
    "    best_weight_model = model\n",
    "\n",
    "print('Лучшая F1-мера с увеличенным весом редких объектов:' f'{RandomForest_weight_result:.4f}')\n",
    "print('Оптимальная глубина дерева:', RandomForest_weight_depth)\n",
    "print('Оптимальное количество деревьев:', RandomForest_weight_est)"
   ]
  },
  {
   "cell_type": "markdown",
   "metadata": {},
   "source": [
    "**Модель логистической регрессии**"
   ]
  },
  {
   "cell_type": "code",
   "execution_count": 76,
   "metadata": {},
   "outputs": [
    {
     "name": "stdout",
     "output_type": "stream",
     "text": [
      "Лучшая F1-мера с увеличенным весом редких объектов: 0.53\n",
      "Лучший алгоритм оптимизации: liblinear\n"
     ]
    }
   ],
   "source": [
    "# лучший результат\n",
    "LogisticRegression_weight_result = 0\n",
    "\n",
    "# лучший алгоритм оптимизации\n",
    "solver = ['sag', 'saga', 'newton-cg', 'lbfgs', 'liblinear']\n",
    "best_weight_solver = []\n",
    "\n",
    "for i in range(len(solver)):\n",
    "    # модель логистической регрессии\n",
    "    model = LogisticRegression(random_state=RANDOM_STATE, solver=solver[i], max_iter=500, class_weight='balanced')\n",
    "    model.fit(features_train, target_train)\n",
    "\n",
    "    # посчитаем качество модели на валидационной выборке\n",
    "    predictions = model.predict(features_valid)\n",
    "    result = f1_score(target_valid, predictions)\n",
    "    \n",
    "    # сравним результаты\n",
    "    if result > LogisticRegression_weight_result:\n",
    "        LogisticRegression_weight_result = result\n",
    "        best_weight_solver = solver[i]\n",
    "                \n",
    "# сохраним в лучшую модель    \n",
    "if LogisticRegression_result > best_weight_result:\n",
    "    best_weight_result = LogisticRegression_weight_result\n",
    "    best_weight_model = model\n",
    "    \n",
    "print('Лучшая F1-мера с увеличенным весом редких объектов:',f'{LogisticRegression_weight_result:.2f}')\n",
    "print('Лучший алгоритм оптимизации:', best_weight_solver)"
   ]
  },
  {
   "cell_type": "markdown",
   "metadata": {},
   "source": [
    "**Вывод**"
   ]
  },
  {
   "cell_type": "code",
   "execution_count": 77,
   "metadata": {},
   "outputs": [
    {
     "name": "stdout",
     "output_type": "stream",
     "text": [
      "Лучшая F1-мера с увеличенным весом редких объектов\n",
      " у RandomForestClassifier(class_weight='balanced', max_depth=19, n_estimators=95,\n",
      "                       random_state=42) с результатом: 0.6476\n"
     ]
    }
   ],
   "source": [
    "print('Лучшая F1-мера с увеличенным весом редких объектов\\n у', best_weight_model,\n",
    "      'с результатом:', f'{best_weight_result:.4f}')"
   ]
  },
  {
   "cell_type": "markdown",
   "metadata": {},
   "source": [
    "Лучшая F-мера у **RandomForestClassifier** с увеличенным весом с результатом: 0.6468. Построим ROC-криваую:"
   ]
  },
  {
   "cell_type": "code",
   "execution_count": 78,
   "metadata": {},
   "outputs": [
    {
     "data": {
      "image/png": "[encoded data removed]",
      "text/plain": [
       "<Figure size 936x720 with 1 Axes>"
      ]
     },
     "metadata": {
      "needs_background": "light"
     },
     "output_type": "display_data"
    },
    {
     "name": "stdout",
     "output_type": "stream",
     "text": [
      "AUC-ROC =   0.8647\n"
     ]
    }
   ],
   "source": [
    "# ROC-кривая лучшей модели\n",
    "plt.figure(figsize=[13,10])\n",
    "plt.plot([0, 1], [0, 1], linestyle='--', label='RandomModel')\n",
    "best_weight_model.fit(features_train, target_train)\n",
    "probabilities_valid = best_weight_model.predict_proba(features_valid)\n",
    "probabilities_one_valid = probabilities_valid[:, 1]\n",
    "fpr, tpr, thresholds = roc_curve(target_valid, probabilities_one_valid)\n",
    "auc_roc = roc_auc_score(target_valid, probabilities_one_valid)\n",
    "\n",
    "\n",
    "# ROC-кривая случайной модели\n",
    "plt.plot(fpr, tpr, label='RandomForestClassifier')\n",
    "plt.xlim([0.0, 1.0])\n",
    "plt.ylim([0.0, 1.0])\n",
    "plt.xlabel('False Positive')\n",
    "plt.ylabel('True Positive')\n",
    "plt.title('ROC-кривая')\n",
    "plt.legend(loc='lower right', fontsize='x-large')\n",
    "plt.show()\n",
    "\n",
    "print('AUC-ROC =  ', f'{auc_roc:.4f}')"
   ]
  },
  {
   "cell_type": "markdown",
   "metadata": {},
   "source": [
    "**Вывод**"
   ]
  },
  {
   "cell_type": "markdown",
   "metadata": {},
   "source": [
    "Борьба с дисбалансом дала свои результаты: `Upsamling` и `Downsampling` показали себя не так хорошо как развесовка значений.\n",
    "\n",
    "После борьбы с дисбалансом у нас определилась **лучшая модель**, это **RandomForestClassifier с результатом: 0.6468.**"
   ]
  },
  {
   "cell_type": "markdown",
   "metadata": {},
   "source": [
    "## Тестирование модели"
   ]
  },
  {
   "cell_type": "markdown",
   "metadata": {},
   "source": [
    "Проведем финальное тестирование лучшей модели:"
   ]
  },
  {
   "cell_type": "code",
   "execution_count": 80,
   "metadata": {},
   "outputs": [
    {
     "name": "stdout",
     "output_type": "stream",
     "text": [
      "Лучшая F1-мера: 0.5918854415274463\n",
      "AUC-ROC = 0.855397770652008\n"
     ]
    }
   ],
   "source": [
    "best_weight_model = RandomForestClassifier(random_state=RANDOM_STATE, n_estimators=85, max_depth = 5, class_weight='None')\n",
    "best_weight_model.fit(features_train, target_train)\n",
    "\n",
    "\n",
    "full_predictions = best_weight_model.predict(features_test) \n",
    "full_result = f1_score(target_test, full_predictions)\n",
    "\n",
    "print(\"Лучшая F1-мера:\", full_result)\n",
    "\n",
    "full_probabilities_test = best_weight_model.predict_proba(features_test)\n",
    "full_probabilities_one_test = full_probabilities_test[:, 1]\n",
    "\n",
    "fpr, tpr, thresholds = roc_curve(target_test, full_probabilities_one_test)\n",
    "full_auc_roc = roc_auc_score(target_test, full_probabilities_one_test)\n",
    "\n",
    "print('AUC-ROC =', full_auc_roc)"
   ]
  },
  {
   "cell_type": "markdown",
   "metadata": {},
   "source": [
    "**Вывод**"
   ]
  },
  {
   "cell_type": "markdown",
   "metadata": {},
   "source": [
    "По результатам работы проведена подготовка данных. При аналазе выяснилось, что данные дисбалансы. Обучили несколько моделей (подбор гиперпараметров провели в цикле), проверили работу моделей на данных с балансом и без. \n",
    "\n",
    "Среди моделей абсолютным лидером стал **RandomForestClassifier**. На баллансных и дисбалансных данных он показывал лучшие результаты.\n",
    "\n",
    "Лучшим методом борьбы с дисбалансом стал  **class_weight** - гиперпараметр, который позволяет увеличить вес редких объектов. \n",
    "\n",
    "Лучшая **F1-мера** у **RandomForestClassifier**. По результату тестирования модели получено значение в **0.592**, что  вполне удовлевтвояряет условию поставленной задачи. **AUC-ROC** модели равен **0.8619**. Весьма неплохой результат. Подученную модель можно использовать для предсказания \"уйдет клиент из «Бета-Банка» или нет\"."
   ]
  }
 ],
 "metadata": {
  "ExecuteTimeLog": [
   {
    "duration": 1595,
    "start_time": "2022-12-07T19:23:56.432Z"
   },
   {
    "duration": 161,
    "start_time": "2022-12-07T19:24:01.104Z"
   },
   {
    "duration": 18,
    "start_time": "2022-12-07T19:24:03.684Z"
   },
   {
    "duration": 13,
    "start_time": "2022-12-07T19:24:07.303Z"
   },
   {
    "duration": 36,
    "start_time": "2022-12-07T19:24:23.463Z"
   },
   {
    "duration": 71,
    "start_time": "2022-12-07T22:15:29.163Z"
   },
   {
    "duration": 1803,
    "start_time": "2022-12-07T22:15:35.967Z"
   },
   {
    "duration": 216,
    "start_time": "2022-12-07T22:15:39.477Z"
   },
   {
    "duration": 28,
    "start_time": "2022-12-07T22:15:40.608Z"
   },
   {
    "duration": 21,
    "start_time": "2022-12-07T22:15:43.486Z"
   },
   {
    "duration": 52,
    "start_time": "2022-12-07T22:15:46.455Z"
   },
   {
    "duration": 120,
    "start_time": "2022-12-07T22:15:47.398Z"
   },
   {
    "duration": 6,
    "start_time": "2022-12-07T22:45:39.749Z"
   },
   {
    "duration": 8,
    "start_time": "2022-12-07T22:45:42.688Z"
   },
   {
    "duration": 10,
    "start_time": "2022-12-07T22:45:57.647Z"
   },
   {
    "duration": 6,
    "start_time": "2022-12-07T22:46:01.188Z"
   },
   {
    "duration": 19,
    "start_time": "2022-12-07T22:46:03.790Z"
   },
   {
    "duration": 8,
    "start_time": "2022-12-07T22:46:09.196Z"
   },
   {
    "duration": 12,
    "start_time": "2022-12-07T22:47:25.633Z"
   },
   {
    "duration": 8,
    "start_time": "2022-12-07T22:48:17.389Z"
   },
   {
    "duration": 146,
    "start_time": "2022-12-07T22:49:17.510Z"
   },
   {
    "duration": 128,
    "start_time": "2022-12-07T22:49:34.969Z"
   },
   {
    "duration": 218,
    "start_time": "2022-12-07T22:49:42.069Z"
   },
   {
    "duration": 114,
    "start_time": "2022-12-07T22:49:50.443Z"
   },
   {
    "duration": 130,
    "start_time": "2022-12-07T22:49:56.989Z"
   },
   {
    "duration": 1722,
    "start_time": "2022-12-08T20:00:09.940Z"
   },
   {
    "duration": 185,
    "start_time": "2022-12-08T20:00:11.663Z"
   },
   {
    "duration": 15,
    "start_time": "2022-12-08T20:00:11.849Z"
   },
   {
    "duration": 13,
    "start_time": "2022-12-08T20:00:11.867Z"
   },
   {
    "duration": 47,
    "start_time": "2022-12-08T20:00:11.882Z"
   },
   {
    "duration": 12,
    "start_time": "2022-12-08T20:00:11.931Z"
   },
   {
    "duration": 14,
    "start_time": "2022-12-08T20:00:11.944Z"
   },
   {
    "duration": 27,
    "start_time": "2022-12-08T20:00:11.959Z"
   },
   {
    "duration": 53,
    "start_time": "2022-12-08T20:00:11.987Z"
   },
   {
    "duration": 26,
    "start_time": "2022-12-08T20:00:12.042Z"
   },
   {
    "duration": 33,
    "start_time": "2022-12-08T20:00:12.069Z"
   },
   {
    "duration": 46,
    "start_time": "2022-12-08T20:00:12.103Z"
   },
   {
    "duration": 10,
    "start_time": "2022-12-08T20:00:12.150Z"
   },
   {
    "duration": 181,
    "start_time": "2022-12-08T20:00:12.162Z"
   },
   {
    "duration": 6,
    "start_time": "2022-12-08T20:00:12.345Z"
   },
   {
    "duration": 133,
    "start_time": "2022-12-08T20:00:36.037Z"
   },
   {
    "duration": 8,
    "start_time": "2022-12-08T20:01:03.725Z"
   },
   {
    "duration": 1605,
    "start_time": "2022-12-09T19:42:53.667Z"
   },
   {
    "duration": 187,
    "start_time": "2022-12-09T19:42:55.274Z"
   },
   {
    "duration": 14,
    "start_time": "2022-12-09T19:42:55.463Z"
   },
   {
    "duration": 12,
    "start_time": "2022-12-09T19:42:55.479Z"
   },
   {
    "duration": 32,
    "start_time": "2022-12-09T19:42:55.492Z"
   },
   {
    "duration": 5,
    "start_time": "2022-12-09T19:42:55.526Z"
   },
   {
    "duration": 10,
    "start_time": "2022-12-09T19:42:55.532Z"
   },
   {
    "duration": 35,
    "start_time": "2022-12-09T19:42:55.543Z"
   },
   {
    "duration": 4,
    "start_time": "2022-12-09T19:42:55.580Z"
   },
   {
    "duration": 19,
    "start_time": "2022-12-09T19:42:55.587Z"
   },
   {
    "duration": 8,
    "start_time": "2022-12-09T19:42:55.608Z"
   },
   {
    "duration": 8,
    "start_time": "2022-12-09T19:42:55.617Z"
   },
   {
    "duration": 5,
    "start_time": "2022-12-09T19:42:55.627Z"
   },
   {
    "duration": 178,
    "start_time": "2022-12-09T19:42:55.634Z"
   },
   {
    "duration": 5,
    "start_time": "2022-12-09T19:42:55.813Z"
   },
   {
    "duration": 125,
    "start_time": "2022-12-09T19:42:55.820Z"
   },
   {
    "duration": 7,
    "start_time": "2022-12-09T19:42:55.947Z"
   },
   {
    "duration": 6,
    "start_time": "2022-12-09T19:42:55.956Z"
   },
   {
    "duration": 260,
    "start_time": "2022-12-09T19:44:01.236Z"
   },
   {
    "duration": 3109,
    "start_time": "2022-12-09T19:44:24.608Z"
   },
   {
    "duration": 1521,
    "start_time": "2022-12-25T15:27:40.763Z"
   },
   {
    "duration": 160,
    "start_time": "2022-12-25T15:27:42.285Z"
   },
   {
    "duration": 14,
    "start_time": "2022-12-25T15:27:42.447Z"
   },
   {
    "duration": 13,
    "start_time": "2022-12-25T15:27:42.462Z"
   },
   {
    "duration": 33,
    "start_time": "2022-12-25T15:27:42.477Z"
   },
   {
    "duration": 5,
    "start_time": "2022-12-25T15:27:42.511Z"
   },
   {
    "duration": 8,
    "start_time": "2022-12-25T15:27:42.517Z"
   },
   {
    "duration": 7,
    "start_time": "2022-12-25T15:27:42.526Z"
   },
   {
    "duration": 5,
    "start_time": "2022-12-25T15:27:42.535Z"
   },
   {
    "duration": 19,
    "start_time": "2022-12-25T15:27:42.542Z"
   },
   {
    "duration": 6,
    "start_time": "2022-12-25T15:27:42.562Z"
   },
   {
    "duration": 9,
    "start_time": "2022-12-25T15:27:42.570Z"
   },
   {
    "duration": 36,
    "start_time": "2022-12-25T15:27:42.581Z"
   },
   {
    "duration": 129,
    "start_time": "2022-12-25T15:27:42.620Z"
   },
   {
    "duration": 5,
    "start_time": "2022-12-25T15:27:42.750Z"
   },
   {
    "duration": 118,
    "start_time": "2022-12-25T15:27:42.756Z"
   },
   {
    "duration": 5,
    "start_time": "2022-12-25T15:27:42.876Z"
   },
   {
    "duration": 3,
    "start_time": "2022-12-25T15:27:42.883Z"
   },
   {
    "duration": 225,
    "start_time": "2022-12-25T15:27:42.888Z"
   },
   {
    "duration": 2663,
    "start_time": "2022-12-25T15:27:43.114Z"
   },
   {
    "duration": 111,
    "start_time": "2022-12-25T15:27:45.779Z"
   },
   {
    "duration": 3167,
    "start_time": "2022-12-25T15:29:07.510Z"
   },
   {
    "duration": 64325,
    "start_time": "2022-12-25T15:29:30.602Z"
   },
   {
    "duration": 14,
    "start_time": "2022-12-25T15:38:42.078Z"
   },
   {
    "duration": 11,
    "start_time": "2022-12-25T15:39:02.007Z"
   },
   {
    "duration": 12,
    "start_time": "2022-12-25T15:39:10.646Z"
   },
   {
    "duration": 5,
    "start_time": "2022-12-25T15:45:46.881Z"
   },
   {
    "duration": 8,
    "start_time": "2022-12-25T15:45:48.961Z"
   },
   {
    "duration": 8,
    "start_time": "2022-12-25T15:46:21.496Z"
   },
   {
    "duration": 8,
    "start_time": "2022-12-25T15:46:40.886Z"
   },
   {
    "duration": 7,
    "start_time": "2022-12-25T15:52:33.680Z"
   },
   {
    "duration": 4,
    "start_time": "2022-12-25T15:52:46.413Z"
   },
   {
    "duration": 5,
    "start_time": "2022-12-25T15:53:02.452Z"
   },
   {
    "duration": 74,
    "start_time": "2022-12-25T15:54:36.882Z"
   },
   {
    "duration": 69,
    "start_time": "2022-12-25T15:54:56.785Z"
   },
   {
    "duration": 8,
    "start_time": "2022-12-25T15:55:06.932Z"
   },
   {
    "duration": 6,
    "start_time": "2022-12-25T15:55:34.402Z"
   },
   {
    "duration": 13,
    "start_time": "2022-12-25T15:56:12.380Z"
   },
   {
    "duration": 7,
    "start_time": "2022-12-25T15:56:29.462Z"
   },
   {
    "duration": 6,
    "start_time": "2022-12-25T15:57:11.224Z"
   },
   {
    "duration": 4,
    "start_time": "2022-12-25T15:57:29.254Z"
   },
   {
    "duration": 4,
    "start_time": "2022-12-25T15:57:35.305Z"
   },
   {
    "duration": 4,
    "start_time": "2022-12-25T15:57:42.096Z"
   },
   {
    "duration": 4,
    "start_time": "2022-12-25T15:57:52.538Z"
   },
   {
    "duration": 4,
    "start_time": "2022-12-25T15:58:06.152Z"
   },
   {
    "duration": 5,
    "start_time": "2022-12-25T16:02:38.828Z"
   },
   {
    "duration": 7,
    "start_time": "2022-12-25T16:06:22.496Z"
   },
   {
    "duration": 14,
    "start_time": "2022-12-25T16:08:10.626Z"
   },
   {
    "duration": 1286,
    "start_time": "2022-12-25T16:09:10.565Z"
   },
   {
    "duration": 48,
    "start_time": "2022-12-25T16:09:11.853Z"
   },
   {
    "duration": 16,
    "start_time": "2022-12-25T16:09:11.903Z"
   },
   {
    "duration": 11,
    "start_time": "2022-12-25T16:09:11.920Z"
   },
   {
    "duration": 43,
    "start_time": "2022-12-25T16:09:11.934Z"
   },
   {
    "duration": 5,
    "start_time": "2022-12-25T16:09:11.979Z"
   },
   {
    "duration": 9,
    "start_time": "2022-12-25T16:09:11.986Z"
   },
   {
    "duration": 6,
    "start_time": "2022-12-25T16:09:12.013Z"
   },
   {
    "duration": 115,
    "start_time": "2022-12-25T16:09:12.021Z"
   },
   {
    "duration": 0,
    "start_time": "2022-12-25T16:09:12.138Z"
   },
   {
    "duration": 0,
    "start_time": "2022-12-25T16:09:12.140Z"
   },
   {
    "duration": 0,
    "start_time": "2022-12-25T16:09:12.141Z"
   },
   {
    "duration": 0,
    "start_time": "2022-12-25T16:09:12.142Z"
   },
   {
    "duration": 0,
    "start_time": "2022-12-25T16:09:12.143Z"
   },
   {
    "duration": 0,
    "start_time": "2022-12-25T16:09:12.145Z"
   },
   {
    "duration": 0,
    "start_time": "2022-12-25T16:09:12.147Z"
   },
   {
    "duration": 0,
    "start_time": "2022-12-25T16:09:12.148Z"
   },
   {
    "duration": 0,
    "start_time": "2022-12-25T16:09:12.149Z"
   },
   {
    "duration": 0,
    "start_time": "2022-12-25T16:09:12.151Z"
   },
   {
    "duration": 0,
    "start_time": "2022-12-25T16:09:12.152Z"
   },
   {
    "duration": 0,
    "start_time": "2022-12-25T16:09:12.154Z"
   },
   {
    "duration": 0,
    "start_time": "2022-12-25T16:09:12.155Z"
   },
   {
    "duration": 16,
    "start_time": "2022-12-25T16:11:45.142Z"
   },
   {
    "duration": 13,
    "start_time": "2022-12-25T16:11:55.102Z"
   },
   {
    "duration": 14,
    "start_time": "2022-12-25T16:12:03.969Z"
   },
   {
    "duration": 13,
    "start_time": "2022-12-25T16:12:41.987Z"
   },
   {
    "duration": 13,
    "start_time": "2022-12-25T16:13:07.311Z"
   },
   {
    "duration": 20,
    "start_time": "2022-12-25T16:15:20.369Z"
   },
   {
    "duration": 7,
    "start_time": "2022-12-25T16:15:21.277Z"
   },
   {
    "duration": 8,
    "start_time": "2022-12-25T16:15:21.907Z"
   },
   {
    "duration": 5,
    "start_time": "2022-12-25T16:15:22.667Z"
   },
   {
    "duration": 117,
    "start_time": "2022-12-25T16:15:23.184Z"
   },
   {
    "duration": 5,
    "start_time": "2022-12-25T16:15:23.364Z"
   },
   {
    "duration": 114,
    "start_time": "2022-12-25T16:15:23.616Z"
   },
   {
    "duration": 6,
    "start_time": "2022-12-25T16:15:23.799Z"
   },
   {
    "duration": 3,
    "start_time": "2022-12-25T16:15:23.977Z"
   },
   {
    "duration": 201,
    "start_time": "2022-12-25T16:15:24.266Z"
   },
   {
    "duration": 2728,
    "start_time": "2022-12-25T16:15:24.469Z"
   },
   {
    "duration": 4,
    "start_time": "2022-12-25T16:15:32.457Z"
   },
   {
    "duration": 8,
    "start_time": "2022-12-25T16:15:33.164Z"
   },
   {
    "duration": 12,
    "start_time": "2022-12-25T16:16:28.796Z"
   },
   {
    "duration": 26,
    "start_time": "2022-12-25T16:38:05.980Z"
   },
   {
    "duration": 10,
    "start_time": "2022-12-25T16:38:45.671Z"
   },
   {
    "duration": 15,
    "start_time": "2022-12-25T17:14:42.993Z"
   },
   {
    "duration": 4,
    "start_time": "2022-12-25T17:15:03.440Z"
   },
   {
    "duration": 9,
    "start_time": "2022-12-25T17:15:11.166Z"
   },
   {
    "duration": 5,
    "start_time": "2022-12-25T17:16:38.935Z"
   },
   {
    "duration": 3,
    "start_time": "2022-12-25T17:16:46.544Z"
   },
   {
    "duration": 12,
    "start_time": "2022-12-25T17:16:50.765Z"
   },
   {
    "duration": 5,
    "start_time": "2022-12-25T17:17:33.479Z"
   },
   {
    "duration": 15,
    "start_time": "2022-12-25T17:17:39.680Z"
   },
   {
    "duration": 12,
    "start_time": "2022-12-25T17:18:33.168Z"
   },
   {
    "duration": 12,
    "start_time": "2022-12-25T17:18:51.559Z"
   },
   {
    "duration": 4,
    "start_time": "2022-12-25T17:20:38.569Z"
   },
   {
    "duration": 12,
    "start_time": "2022-12-25T17:20:44.907Z"
   },
   {
    "duration": 2007,
    "start_time": "2022-12-25T17:22:03.914Z"
   },
   {
    "duration": 2221,
    "start_time": "2022-12-25T17:22:42.793Z"
   },
   {
    "duration": 3356,
    "start_time": "2022-12-25T17:22:58.965Z"
   },
   {
    "duration": 8,
    "start_time": "2022-12-25T17:38:16.938Z"
   },
   {
    "duration": 96,
    "start_time": "2022-12-25T17:38:18.761Z"
   },
   {
    "duration": 9,
    "start_time": "2022-12-25T17:41:25.575Z"
   },
   {
    "duration": 24,
    "start_time": "2022-12-25T17:41:47.367Z"
   },
   {
    "duration": 5,
    "start_time": "2022-12-25T17:42:36.485Z"
   },
   {
    "duration": 17,
    "start_time": "2022-12-25T17:42:45.928Z"
   },
   {
    "duration": 3,
    "start_time": "2022-12-25T17:43:21.307Z"
   },
   {
    "duration": 6,
    "start_time": "2022-12-25T17:43:25.047Z"
   },
   {
    "duration": 78,
    "start_time": "2022-12-25T17:43:27.181Z"
   },
   {
    "duration": 15573,
    "start_time": "2022-12-25T17:45:33.403Z"
   },
   {
    "duration": 13,
    "start_time": "2022-12-25T17:52:08.626Z"
   },
   {
    "duration": 61,
    "start_time": "2022-12-25T18:03:41.932Z"
   },
   {
    "duration": 1730,
    "start_time": "2022-12-25T18:03:50.133Z"
   },
   {
    "duration": 83,
    "start_time": "2022-12-25T18:03:51.866Z"
   },
   {
    "duration": 22,
    "start_time": "2022-12-25T18:03:51.952Z"
   },
   {
    "duration": 23,
    "start_time": "2022-12-25T18:03:51.976Z"
   },
   {
    "duration": 48,
    "start_time": "2022-12-25T18:03:52.002Z"
   },
   {
    "duration": 5,
    "start_time": "2022-12-25T18:03:52.053Z"
   },
   {
    "duration": 10,
    "start_time": "2022-12-25T18:03:52.060Z"
   },
   {
    "duration": 15,
    "start_time": "2022-12-25T18:03:52.072Z"
   },
   {
    "duration": 15,
    "start_time": "2022-12-25T18:03:52.089Z"
   },
   {
    "duration": 45,
    "start_time": "2022-12-25T18:03:52.107Z"
   },
   {
    "duration": 9,
    "start_time": "2022-12-25T18:03:52.154Z"
   },
   {
    "duration": 12,
    "start_time": "2022-12-25T18:03:52.165Z"
   },
   {
    "duration": 6,
    "start_time": "2022-12-25T18:03:52.179Z"
   },
   {
    "duration": 185,
    "start_time": "2022-12-25T18:03:52.188Z"
   },
   {
    "duration": 5,
    "start_time": "2022-12-25T18:03:52.374Z"
   },
   {
    "duration": 202,
    "start_time": "2022-12-25T18:03:52.381Z"
   },
   {
    "duration": 9,
    "start_time": "2022-12-25T18:03:52.588Z"
   },
   {
    "duration": 9,
    "start_time": "2022-12-25T18:03:52.599Z"
   },
   {
    "duration": 347,
    "start_time": "2022-12-25T18:03:52.610Z"
   },
   {
    "duration": 4510,
    "start_time": "2022-12-25T18:03:52.959Z"
   },
   {
    "duration": 5,
    "start_time": "2022-12-25T18:03:57.471Z"
   },
   {
    "duration": 16,
    "start_time": "2022-12-25T18:03:57.478Z"
   },
   {
    "duration": 18,
    "start_time": "2022-12-25T18:03:57.496Z"
   },
   {
    "duration": 44,
    "start_time": "2022-12-25T18:03:57.516Z"
   },
   {
    "duration": 10,
    "start_time": "2022-12-25T18:03:57.562Z"
   },
   {
    "duration": 5,
    "start_time": "2022-12-25T18:03:57.574Z"
   },
   {
    "duration": 7,
    "start_time": "2022-12-25T18:03:57.580Z"
   },
   {
    "duration": 17815,
    "start_time": "2022-12-25T18:03:57.589Z"
   },
   {
    "duration": 121,
    "start_time": "2022-12-25T18:04:15.406Z"
   },
   {
    "duration": 40,
    "start_time": "2022-12-25T18:04:54.955Z"
   },
   {
    "duration": 62,
    "start_time": "2022-12-25T18:05:52.080Z"
   },
   {
    "duration": 2138,
    "start_time": "2022-12-25T18:06:32.526Z"
   },
   {
    "duration": 2243,
    "start_time": "2022-12-25T18:10:07.186Z"
   },
   {
    "duration": 1566,
    "start_time": "2022-12-25T18:10:49.480Z"
   },
   {
    "duration": 1578,
    "start_time": "2022-12-25T18:11:25.722Z"
   },
   {
    "duration": 1841,
    "start_time": "2022-12-25T18:11:31.783Z"
   },
   {
    "duration": 18804,
    "start_time": "2022-12-25T18:11:46.702Z"
   },
   {
    "duration": 1129,
    "start_time": "2022-12-25T18:12:59.427Z"
   },
   {
    "duration": 379,
    "start_time": "2022-12-25T18:16:21.641Z"
   },
   {
    "duration": 378,
    "start_time": "2022-12-25T18:16:27.102Z"
   },
   {
    "duration": 430,
    "start_time": "2022-12-25T18:17:05.371Z"
   },
   {
    "duration": 447,
    "start_time": "2022-12-25T18:17:18.623Z"
   },
   {
    "duration": 17952,
    "start_time": "2022-12-25T18:17:34.204Z"
   },
   {
    "duration": 1749,
    "start_time": "2022-12-25T18:18:04.802Z"
   },
   {
    "duration": 416,
    "start_time": "2022-12-25T18:19:07.393Z"
   },
   {
    "duration": 420,
    "start_time": "2022-12-25T18:19:13.863Z"
   },
   {
    "duration": 1751,
    "start_time": "2022-12-25T18:19:19.023Z"
   },
   {
    "duration": 2068,
    "start_time": "2022-12-25T18:19:35.843Z"
   },
   {
    "duration": 824,
    "start_time": "2022-12-25T18:26:00.956Z"
   },
   {
    "duration": 6,
    "start_time": "2022-12-25T18:27:53.539Z"
   },
   {
    "duration": 446,
    "start_time": "2022-12-25T18:27:57.062Z"
   },
   {
    "duration": 6,
    "start_time": "2022-12-25T18:28:17.712Z"
   },
   {
    "duration": 428,
    "start_time": "2022-12-25T18:28:20.451Z"
   },
   {
    "duration": 6,
    "start_time": "2022-12-25T18:28:56.074Z"
   },
   {
    "duration": 413,
    "start_time": "2022-12-25T18:28:58.962Z"
   },
   {
    "duration": 7,
    "start_time": "2022-12-25T18:30:06.902Z"
   },
   {
    "duration": 2191,
    "start_time": "2022-12-25T18:30:08.751Z"
   },
   {
    "duration": 976,
    "start_time": "2022-12-25T18:34:40.205Z"
   },
   {
    "duration": 1338,
    "start_time": "2022-12-25T18:35:15.159Z"
   },
   {
    "duration": 853,
    "start_time": "2022-12-25T18:35:24.808Z"
   },
   {
    "duration": 333,
    "start_time": "2022-12-25T18:37:46.839Z"
   },
   {
    "duration": 1261,
    "start_time": "2022-12-25T18:41:42.835Z"
   },
   {
    "duration": 670,
    "start_time": "2022-12-25T18:41:56.150Z"
   },
   {
    "duration": 2181,
    "start_time": "2022-12-25T18:42:18.252Z"
   },
   {
    "duration": 966,
    "start_time": "2022-12-25T18:42:21.360Z"
   },
   {
    "duration": 978,
    "start_time": "2022-12-25T18:44:01.579Z"
   },
   {
    "duration": 848,
    "start_time": "2022-12-25T18:44:04.769Z"
   },
   {
    "duration": 13,
    "start_time": "2022-12-25T18:44:25.636Z"
   },
   {
    "duration": 5039,
    "start_time": "2022-12-25T18:44:42.707Z"
   },
   {
    "duration": 5187,
    "start_time": "2022-12-25T18:46:47.652Z"
   },
   {
    "duration": 5171,
    "start_time": "2022-12-25T18:47:30.773Z"
   },
   {
    "duration": 8175,
    "start_time": "2022-12-25T18:48:01.061Z"
   },
   {
    "duration": 293,
    "start_time": "2022-12-25T18:48:52.477Z"
   },
   {
    "duration": 20,
    "start_time": "2022-12-25T19:03:35.685Z"
   },
   {
    "duration": 14,
    "start_time": "2022-12-25T19:03:47.046Z"
   },
   {
    "duration": 12,
    "start_time": "2022-12-25T19:03:59.341Z"
   },
   {
    "duration": 14,
    "start_time": "2022-12-25T19:04:35.490Z"
   },
   {
    "duration": 17,
    "start_time": "2022-12-25T19:04:46.950Z"
   },
   {
    "duration": 2502,
    "start_time": "2022-12-25T19:08:40.841Z"
   },
   {
    "duration": 985,
    "start_time": "2022-12-25T19:09:29.138Z"
   },
   {
    "duration": 5283,
    "start_time": "2022-12-25T19:10:01.762Z"
   },
   {
    "duration": 14,
    "start_time": "2022-12-25T19:12:14.082Z"
   },
   {
    "duration": 1126,
    "start_time": "2022-12-25T19:14:35.841Z"
   },
   {
    "duration": 354,
    "start_time": "2022-12-25T19:14:49.571Z"
   },
   {
    "duration": 254,
    "start_time": "2022-12-25T19:14:53.172Z"
   },
   {
    "duration": 14,
    "start_time": "2022-12-25T19:15:03.964Z"
   },
   {
    "duration": 14,
    "start_time": "2022-12-25T19:15:11.635Z"
   },
   {
    "duration": 1013,
    "start_time": "2022-12-25T19:15:15.180Z"
   },
   {
    "duration": 12,
    "start_time": "2022-12-25T19:15:23.561Z"
   },
   {
    "duration": 892,
    "start_time": "2022-12-25T19:15:26.370Z"
   },
   {
    "duration": 13,
    "start_time": "2022-12-25T19:15:47.752Z"
   },
   {
    "duration": 942,
    "start_time": "2022-12-25T19:15:49.972Z"
   },
   {
    "duration": 333,
    "start_time": "2022-12-25T19:16:01.702Z"
   },
   {
    "duration": 237,
    "start_time": "2022-12-25T19:16:02.803Z"
   },
   {
    "duration": 148,
    "start_time": "2022-12-25T19:20:58.867Z"
   },
   {
    "duration": 279,
    "start_time": "2022-12-25T19:21:10.387Z"
   },
   {
    "duration": 7,
    "start_time": "2022-12-25T19:22:13.249Z"
   },
   {
    "duration": 256,
    "start_time": "2022-12-25T19:22:20.507Z"
   },
   {
    "duration": 63,
    "start_time": "2022-12-26T14:48:15.150Z"
   },
   {
    "duration": 1720,
    "start_time": "2022-12-26T14:49:44.858Z"
   },
   {
    "duration": 6,
    "start_time": "2022-12-26T14:49:55.345Z"
   },
   {
    "duration": 16,
    "start_time": "2022-12-26T14:50:19.117Z"
   },
   {
    "duration": 15,
    "start_time": "2022-12-26T14:55:03.876Z"
   },
   {
    "duration": 9,
    "start_time": "2022-12-26T14:55:42.465Z"
   },
   {
    "duration": 14,
    "start_time": "2022-12-26T14:57:15.981Z"
   },
   {
    "duration": 14,
    "start_time": "2022-12-26T15:01:02.494Z"
   },
   {
    "duration": 113,
    "start_time": "2022-12-26T15:31:57.218Z"
   },
   {
    "duration": 18,
    "start_time": "2022-12-26T15:32:54.323Z"
   },
   {
    "duration": 21,
    "start_time": "2022-12-26T15:34:05.531Z"
   },
   {
    "duration": 18,
    "start_time": "2022-12-26T15:35:58.349Z"
   },
   {
    "duration": 11,
    "start_time": "2022-12-26T15:37:20.340Z"
   },
   {
    "duration": 13,
    "start_time": "2022-12-26T17:33:18.359Z"
   },
   {
    "duration": 10,
    "start_time": "2022-12-26T17:36:39.827Z"
   },
   {
    "duration": 15,
    "start_time": "2022-12-26T17:38:24.565Z"
   },
   {
    "duration": 10,
    "start_time": "2022-12-26T17:38:39.187Z"
   },
   {
    "duration": 9,
    "start_time": "2022-12-26T17:39:20.076Z"
   },
   {
    "duration": 12,
    "start_time": "2022-12-26T17:42:48.242Z"
   },
   {
    "duration": 167,
    "start_time": "2022-12-26T17:47:17.370Z"
   },
   {
    "duration": 153,
    "start_time": "2022-12-26T17:47:28.531Z"
   },
   {
    "duration": 1476,
    "start_time": "2022-12-26T17:50:06.487Z"
   },
   {
    "duration": 81,
    "start_time": "2022-12-26T17:50:07.965Z"
   },
   {
    "duration": 15,
    "start_time": "2022-12-26T17:50:08.048Z"
   },
   {
    "duration": 24,
    "start_time": "2022-12-26T17:50:08.064Z"
   },
   {
    "duration": 62,
    "start_time": "2022-12-26T17:50:08.091Z"
   },
   {
    "duration": 8,
    "start_time": "2022-12-26T17:50:08.155Z"
   },
   {
    "duration": 30,
    "start_time": "2022-12-26T17:50:08.165Z"
   },
   {
    "duration": 69,
    "start_time": "2022-12-26T17:50:08.196Z"
   },
   {
    "duration": 43,
    "start_time": "2022-12-26T17:50:08.267Z"
   },
   {
    "duration": 44,
    "start_time": "2022-12-26T17:50:08.312Z"
   },
   {
    "duration": 18,
    "start_time": "2022-12-26T17:50:08.359Z"
   },
   {
    "duration": 21,
    "start_time": "2022-12-26T17:50:08.380Z"
   },
   {
    "duration": 14,
    "start_time": "2022-12-26T17:50:08.404Z"
   },
   {
    "duration": 157,
    "start_time": "2022-12-26T17:50:08.423Z"
   },
   {
    "duration": 6,
    "start_time": "2022-12-26T17:50:08.582Z"
   },
   {
    "duration": 139,
    "start_time": "2022-12-26T17:50:08.590Z"
   },
   {
    "duration": 7,
    "start_time": "2022-12-26T17:50:08.730Z"
   },
   {
    "duration": 3,
    "start_time": "2022-12-26T17:50:08.739Z"
   },
   {
    "duration": 270,
    "start_time": "2022-12-26T17:50:08.743Z"
   },
   {
    "duration": 3155,
    "start_time": "2022-12-26T17:50:09.014Z"
   },
   {
    "duration": 5,
    "start_time": "2022-12-26T17:50:12.171Z"
   },
   {
    "duration": 16,
    "start_time": "2022-12-26T17:50:12.178Z"
   },
   {
    "duration": 17,
    "start_time": "2022-12-26T17:50:12.196Z"
   },
   {
    "duration": 31,
    "start_time": "2022-12-26T17:50:12.215Z"
   },
   {
    "duration": 33,
    "start_time": "2022-12-26T17:50:12.247Z"
   },
   {
    "duration": 6,
    "start_time": "2022-12-26T17:50:12.282Z"
   },
   {
    "duration": 11,
    "start_time": "2022-12-26T17:50:12.289Z"
   },
   {
    "duration": 155,
    "start_time": "2022-12-26T17:50:12.302Z"
   },
   {
    "duration": 0,
    "start_time": "2022-12-26T17:50:12.459Z"
   },
   {
    "duration": 0,
    "start_time": "2022-12-26T17:50:12.461Z"
   },
   {
    "duration": 0,
    "start_time": "2022-12-26T17:50:12.462Z"
   },
   {
    "duration": 0,
    "start_time": "2022-12-26T17:50:12.478Z"
   },
   {
    "duration": 0,
    "start_time": "2022-12-26T17:50:12.479Z"
   },
   {
    "duration": 0,
    "start_time": "2022-12-26T17:50:12.480Z"
   },
   {
    "duration": 0,
    "start_time": "2022-12-26T17:50:12.481Z"
   },
   {
    "duration": 0,
    "start_time": "2022-12-26T17:50:12.482Z"
   },
   {
    "duration": 0,
    "start_time": "2022-12-26T17:50:12.483Z"
   },
   {
    "duration": 0,
    "start_time": "2022-12-26T17:50:12.485Z"
   },
   {
    "duration": 0,
    "start_time": "2022-12-26T17:50:12.486Z"
   },
   {
    "duration": 0,
    "start_time": "2022-12-26T17:50:12.487Z"
   },
   {
    "duration": 0,
    "start_time": "2022-12-26T17:50:12.488Z"
   },
   {
    "duration": 0,
    "start_time": "2022-12-26T17:50:12.489Z"
   },
   {
    "duration": 0,
    "start_time": "2022-12-26T17:50:12.491Z"
   },
   {
    "duration": 0,
    "start_time": "2022-12-26T17:50:12.492Z"
   },
   {
    "duration": 0,
    "start_time": "2022-12-26T17:50:12.492Z"
   },
   {
    "duration": 0,
    "start_time": "2022-12-26T17:50:12.493Z"
   },
   {
    "duration": 54,
    "start_time": "2022-12-26T17:50:54.154Z"
   },
   {
    "duration": 2111,
    "start_time": "2022-12-26T17:54:25.473Z"
   },
   {
    "duration": 6,
    "start_time": "2022-12-26T17:54:35.243Z"
   },
   {
    "duration": 48,
    "start_time": "2022-12-26T17:54:35.251Z"
   },
   {
    "duration": 13,
    "start_time": "2022-12-26T17:54:35.300Z"
   },
   {
    "duration": 15,
    "start_time": "2022-12-26T17:54:35.314Z"
   },
   {
    "duration": 48,
    "start_time": "2022-12-26T17:54:35.331Z"
   },
   {
    "duration": 6,
    "start_time": "2022-12-26T17:54:35.381Z"
   },
   {
    "duration": 10,
    "start_time": "2022-12-26T17:54:35.388Z"
   },
   {
    "duration": 10,
    "start_time": "2022-12-26T17:54:35.400Z"
   },
   {
    "duration": 20,
    "start_time": "2022-12-26T17:54:35.412Z"
   },
   {
    "duration": 54,
    "start_time": "2022-12-26T17:54:35.435Z"
   },
   {
    "duration": 7,
    "start_time": "2022-12-26T17:54:35.492Z"
   },
   {
    "duration": 16,
    "start_time": "2022-12-26T17:54:35.501Z"
   },
   {
    "duration": 8,
    "start_time": "2022-12-26T17:54:35.518Z"
   },
   {
    "duration": 138,
    "start_time": "2022-12-26T17:54:35.528Z"
   },
   {
    "duration": 5,
    "start_time": "2022-12-26T17:54:35.678Z"
   },
   {
    "duration": 138,
    "start_time": "2022-12-26T17:54:35.685Z"
   },
   {
    "duration": 8,
    "start_time": "2022-12-26T17:54:35.825Z"
   },
   {
    "duration": 3,
    "start_time": "2022-12-26T17:54:35.835Z"
   },
   {
    "duration": 263,
    "start_time": "2022-12-26T17:54:35.840Z"
   },
   {
    "duration": 2971,
    "start_time": "2022-12-26T17:54:36.104Z"
   },
   {
    "duration": 5,
    "start_time": "2022-12-26T17:54:39.077Z"
   },
   {
    "duration": 10,
    "start_time": "2022-12-26T17:54:39.083Z"
   },
   {
    "duration": 21,
    "start_time": "2022-12-26T17:54:39.095Z"
   },
   {
    "duration": 25,
    "start_time": "2022-12-26T17:54:39.120Z"
   },
   {
    "duration": 33,
    "start_time": "2022-12-26T17:54:39.147Z"
   },
   {
    "duration": 7,
    "start_time": "2022-12-26T17:54:39.182Z"
   },
   {
    "duration": 7,
    "start_time": "2022-12-26T17:54:39.192Z"
   },
   {
    "duration": 2210,
    "start_time": "2022-12-26T17:54:39.201Z"
   },
   {
    "duration": 916,
    "start_time": "2022-12-26T17:54:41.413Z"
   },
   {
    "duration": 861,
    "start_time": "2022-12-26T17:54:42.331Z"
   },
   {
    "duration": 343,
    "start_time": "2022-12-26T17:54:43.193Z"
   },
   {
    "duration": 4350,
    "start_time": "2022-12-26T17:54:43.538Z"
   },
   {
    "duration": 469,
    "start_time": "2022-12-26T17:54:47.889Z"
   },
   {
    "duration": 27,
    "start_time": "2022-12-26T17:54:48.360Z"
   },
   {
    "duration": 27,
    "start_time": "2022-12-26T17:54:48.389Z"
   },
   {
    "duration": 2618,
    "start_time": "2022-12-26T17:54:48.418Z"
   },
   {
    "duration": 993,
    "start_time": "2022-12-26T17:54:51.037Z"
   },
   {
    "duration": 4864,
    "start_time": "2022-12-26T17:54:52.032Z"
   },
   {
    "duration": 85,
    "start_time": "2022-12-26T17:54:56.904Z"
   },
   {
    "duration": 116,
    "start_time": "2022-12-26T17:54:56.991Z"
   },
   {
    "duration": 982,
    "start_time": "2022-12-26T17:54:57.108Z"
   },
   {
    "duration": 379,
    "start_time": "2022-12-26T17:54:58.092Z"
   },
   {
    "duration": 257,
    "start_time": "2022-12-26T17:54:58.473Z"
   },
   {
    "duration": 11,
    "start_time": "2022-12-26T17:54:58.732Z"
   },
   {
    "duration": 28,
    "start_time": "2022-12-26T17:54:58.744Z"
   },
   {
    "duration": 239,
    "start_time": "2022-12-26T17:54:58.774Z"
   },
   {
    "duration": 14,
    "start_time": "2022-12-26T17:56:44.214Z"
   },
   {
    "duration": 40,
    "start_time": "2022-12-26T18:01:25.441Z"
   },
   {
    "duration": 39,
    "start_time": "2022-12-26T18:01:52.565Z"
   },
   {
    "duration": 1557,
    "start_time": "2022-12-26T18:03:27.364Z"
   },
   {
    "duration": 44,
    "start_time": "2022-12-26T18:03:28.924Z"
   },
   {
    "duration": 16,
    "start_time": "2022-12-26T18:03:28.970Z"
   },
   {
    "duration": 15,
    "start_time": "2022-12-26T18:03:28.988Z"
   },
   {
    "duration": 35,
    "start_time": "2022-12-26T18:03:29.006Z"
   },
   {
    "duration": 5,
    "start_time": "2022-12-26T18:03:29.043Z"
   },
   {
    "duration": 32,
    "start_time": "2022-12-26T18:03:29.050Z"
   },
   {
    "duration": 12,
    "start_time": "2022-12-26T18:03:29.084Z"
   },
   {
    "duration": 21,
    "start_time": "2022-12-26T18:03:29.098Z"
   },
   {
    "duration": 22,
    "start_time": "2022-12-26T18:03:29.122Z"
   },
   {
    "duration": 6,
    "start_time": "2022-12-26T18:03:29.146Z"
   },
   {
    "duration": 27,
    "start_time": "2022-12-26T18:03:29.154Z"
   },
   {
    "duration": 5,
    "start_time": "2022-12-26T18:03:29.183Z"
   },
   {
    "duration": 156,
    "start_time": "2022-12-26T18:03:29.191Z"
   },
   {
    "duration": 6,
    "start_time": "2022-12-26T18:03:29.349Z"
   },
   {
    "duration": 165,
    "start_time": "2022-12-26T18:03:29.357Z"
   },
   {
    "duration": 7,
    "start_time": "2022-12-26T18:03:29.524Z"
   },
   {
    "duration": 12,
    "start_time": "2022-12-26T18:03:29.532Z"
   },
   {
    "duration": 243,
    "start_time": "2022-12-26T18:03:29.546Z"
   },
   {
    "duration": 2989,
    "start_time": "2022-12-26T18:03:29.791Z"
   },
   {
    "duration": 5,
    "start_time": "2022-12-26T18:03:32.782Z"
   },
   {
    "duration": 28,
    "start_time": "2022-12-26T18:03:32.788Z"
   },
   {
    "duration": 12,
    "start_time": "2022-12-26T18:03:32.818Z"
   },
   {
    "duration": 25,
    "start_time": "2022-12-26T18:03:32.832Z"
   },
   {
    "duration": 21,
    "start_time": "2022-12-26T18:03:32.859Z"
   },
   {
    "duration": 6,
    "start_time": "2022-12-26T18:03:32.882Z"
   },
   {
    "duration": 8,
    "start_time": "2022-12-26T18:03:32.889Z"
   },
   {
    "duration": 2202,
    "start_time": "2022-12-26T18:03:32.899Z"
   },
   {
    "duration": 972,
    "start_time": "2022-12-26T18:03:35.103Z"
   },
   {
    "duration": 822,
    "start_time": "2022-12-26T18:03:36.077Z"
   },
   {
    "duration": 334,
    "start_time": "2022-12-26T18:03:36.901Z"
   },
   {
    "duration": 4847,
    "start_time": "2022-12-26T18:03:37.237Z"
   },
   {
    "duration": 427,
    "start_time": "2022-12-26T18:03:42.086Z"
   },
   {
    "duration": 12,
    "start_time": "2022-12-26T18:03:42.514Z"
   },
   {
    "duration": 14,
    "start_time": "2022-12-26T18:03:42.527Z"
   },
   {
    "duration": 2418,
    "start_time": "2022-12-26T18:03:42.542Z"
   },
   {
    "duration": 978,
    "start_time": "2022-12-26T18:03:44.962Z"
   },
   {
    "duration": 5040,
    "start_time": "2022-12-26T18:03:45.942Z"
   },
   {
    "duration": 104,
    "start_time": "2022-12-26T18:03:50.984Z"
   },
   {
    "duration": 98,
    "start_time": "2022-12-26T18:03:51.090Z"
   },
   {
    "duration": 964,
    "start_time": "2022-12-26T18:03:51.192Z"
   },
   {
    "duration": 339,
    "start_time": "2022-12-26T18:03:52.157Z"
   },
   {
    "duration": 262,
    "start_time": "2022-12-26T18:03:52.498Z"
   },
   {
    "duration": 16,
    "start_time": "2022-12-26T18:03:52.766Z"
   },
   {
    "duration": 32,
    "start_time": "2022-12-26T18:03:52.784Z"
   },
   {
    "duration": 239,
    "start_time": "2022-12-26T18:03:52.817Z"
   },
   {
    "duration": 142,
    "start_time": "2022-12-26T18:04:57.875Z"
   },
   {
    "duration": 2066,
    "start_time": "2022-12-26T18:05:13.243Z"
   },
   {
    "duration": 11,
    "start_time": "2022-12-26T18:07:17.335Z"
   },
   {
    "duration": 940,
    "start_time": "2022-12-26T18:07:28.415Z"
   },
   {
    "duration": 18,
    "start_time": "2022-12-26T18:08:28.895Z"
   },
   {
    "duration": 158,
    "start_time": "2022-12-26T18:08:42.396Z"
   },
   {
    "duration": 1475,
    "start_time": "2022-12-26T18:09:10.134Z"
   },
   {
    "duration": 44,
    "start_time": "2022-12-26T18:09:11.611Z"
   },
   {
    "duration": 15,
    "start_time": "2022-12-26T18:09:11.657Z"
   },
   {
    "duration": 14,
    "start_time": "2022-12-26T18:09:11.674Z"
   },
   {
    "duration": 36,
    "start_time": "2022-12-26T18:09:11.690Z"
   },
   {
    "duration": 5,
    "start_time": "2022-12-26T18:09:11.728Z"
   },
   {
    "duration": 10,
    "start_time": "2022-12-26T18:09:11.734Z"
   },
   {
    "duration": 8,
    "start_time": "2022-12-26T18:09:11.746Z"
   },
   {
    "duration": 14,
    "start_time": "2022-12-26T18:09:11.778Z"
   },
   {
    "duration": 25,
    "start_time": "2022-12-26T18:09:11.794Z"
   },
   {
    "duration": 7,
    "start_time": "2022-12-26T18:09:11.821Z"
   },
   {
    "duration": 10,
    "start_time": "2022-12-26T18:09:11.830Z"
   },
   {
    "duration": 37,
    "start_time": "2022-12-26T18:09:11.842Z"
   },
   {
    "duration": 158,
    "start_time": "2022-12-26T18:09:11.884Z"
   },
   {
    "duration": 7,
    "start_time": "2022-12-26T18:09:12.044Z"
   },
   {
    "duration": 147,
    "start_time": "2022-12-26T18:09:12.053Z"
   },
   {
    "duration": 8,
    "start_time": "2022-12-26T18:09:12.202Z"
   },
   {
    "duration": 3,
    "start_time": "2022-12-26T18:09:12.212Z"
   },
   {
    "duration": 252,
    "start_time": "2022-12-26T18:09:12.217Z"
   },
   {
    "duration": 3020,
    "start_time": "2022-12-26T18:09:12.472Z"
   },
   {
    "duration": 5,
    "start_time": "2022-12-26T18:09:15.494Z"
   },
   {
    "duration": 25,
    "start_time": "2022-12-26T18:09:15.500Z"
   },
   {
    "duration": 27,
    "start_time": "2022-12-26T18:09:15.527Z"
   },
   {
    "duration": 32,
    "start_time": "2022-12-26T18:09:15.556Z"
   },
   {
    "duration": 10,
    "start_time": "2022-12-26T18:09:15.590Z"
   },
   {
    "duration": 6,
    "start_time": "2022-12-26T18:09:15.601Z"
   },
   {
    "duration": 17,
    "start_time": "2022-12-26T18:09:15.608Z"
   },
   {
    "duration": 125,
    "start_time": "2022-12-26T18:09:15.627Z"
   },
   {
    "duration": 0,
    "start_time": "2022-12-26T18:09:15.754Z"
   },
   {
    "duration": 0,
    "start_time": "2022-12-26T18:09:15.755Z"
   },
   {
    "duration": 0,
    "start_time": "2022-12-26T18:09:15.756Z"
   },
   {
    "duration": 0,
    "start_time": "2022-12-26T18:09:15.757Z"
   },
   {
    "duration": 0,
    "start_time": "2022-12-26T18:09:15.758Z"
   },
   {
    "duration": 0,
    "start_time": "2022-12-26T18:09:15.759Z"
   },
   {
    "duration": 0,
    "start_time": "2022-12-26T18:09:15.760Z"
   },
   {
    "duration": 0,
    "start_time": "2022-12-26T18:09:15.761Z"
   },
   {
    "duration": 0,
    "start_time": "2022-12-26T18:09:15.778Z"
   },
   {
    "duration": 0,
    "start_time": "2022-12-26T18:09:15.779Z"
   },
   {
    "duration": 0,
    "start_time": "2022-12-26T18:09:15.780Z"
   },
   {
    "duration": 0,
    "start_time": "2022-12-26T18:09:15.780Z"
   },
   {
    "duration": 0,
    "start_time": "2022-12-26T18:09:15.781Z"
   },
   {
    "duration": 0,
    "start_time": "2022-12-26T18:09:15.783Z"
   },
   {
    "duration": 0,
    "start_time": "2022-12-26T18:09:15.783Z"
   },
   {
    "duration": 0,
    "start_time": "2022-12-26T18:09:15.784Z"
   },
   {
    "duration": 0,
    "start_time": "2022-12-26T18:09:15.786Z"
   },
   {
    "duration": 0,
    "start_time": "2022-12-26T18:09:15.787Z"
   },
   {
    "duration": 16,
    "start_time": "2022-12-26T18:10:52.042Z"
   },
   {
    "duration": 2161,
    "start_time": "2022-12-26T18:11:07.403Z"
   },
   {
    "duration": 1474,
    "start_time": "2022-12-26T18:11:22.383Z"
   },
   {
    "duration": 47,
    "start_time": "2022-12-26T18:11:23.859Z"
   },
   {
    "duration": 16,
    "start_time": "2022-12-26T18:11:23.907Z"
   },
   {
    "duration": 30,
    "start_time": "2022-12-26T18:11:23.924Z"
   },
   {
    "duration": 45,
    "start_time": "2022-12-26T18:11:23.956Z"
   },
   {
    "duration": 5,
    "start_time": "2022-12-26T18:11:24.002Z"
   },
   {
    "duration": 44,
    "start_time": "2022-12-26T18:11:24.009Z"
   },
   {
    "duration": 23,
    "start_time": "2022-12-26T18:11:24.055Z"
   },
   {
    "duration": 27,
    "start_time": "2022-12-26T18:11:24.080Z"
   },
   {
    "duration": 37,
    "start_time": "2022-12-26T18:11:24.108Z"
   },
   {
    "duration": 15,
    "start_time": "2022-12-26T18:11:24.147Z"
   },
   {
    "duration": 28,
    "start_time": "2022-12-26T18:11:24.164Z"
   },
   {
    "duration": 23,
    "start_time": "2022-12-26T18:11:24.193Z"
   },
   {
    "duration": 153,
    "start_time": "2022-12-26T18:11:24.220Z"
   },
   {
    "duration": 8,
    "start_time": "2022-12-26T18:11:24.374Z"
   },
   {
    "duration": 143,
    "start_time": "2022-12-26T18:11:24.383Z"
   },
   {
    "duration": 7,
    "start_time": "2022-12-26T18:11:24.528Z"
   },
   {
    "duration": 23,
    "start_time": "2022-12-26T18:11:24.536Z"
   },
   {
    "duration": 241,
    "start_time": "2022-12-26T18:11:24.560Z"
   },
   {
    "duration": 2981,
    "start_time": "2022-12-26T18:11:24.803Z"
   },
   {
    "duration": 4,
    "start_time": "2022-12-26T18:11:27.787Z"
   },
   {
    "duration": 31,
    "start_time": "2022-12-26T18:11:27.793Z"
   },
   {
    "duration": 36,
    "start_time": "2022-12-26T18:11:27.826Z"
   },
   {
    "duration": 41,
    "start_time": "2022-12-26T18:11:27.864Z"
   },
   {
    "duration": 16,
    "start_time": "2022-12-26T18:11:27.907Z"
   },
   {
    "duration": 30,
    "start_time": "2022-12-26T18:11:27.925Z"
   },
   {
    "duration": 24,
    "start_time": "2022-12-26T18:11:27.956Z"
   },
   {
    "duration": 2263,
    "start_time": "2022-12-26T18:11:27.982Z"
   },
   {
    "duration": 946,
    "start_time": "2022-12-26T18:11:30.247Z"
   },
   {
    "duration": 821,
    "start_time": "2022-12-26T18:11:31.195Z"
   },
   {
    "duration": 314,
    "start_time": "2022-12-26T18:11:32.018Z"
   },
   {
    "duration": 4751,
    "start_time": "2022-12-26T18:11:32.333Z"
   },
   {
    "duration": 413,
    "start_time": "2022-12-26T18:11:37.087Z"
   },
   {
    "duration": 12,
    "start_time": "2022-12-26T18:11:37.501Z"
   },
   {
    "duration": 19,
    "start_time": "2022-12-26T18:11:37.514Z"
   },
   {
    "duration": 2412,
    "start_time": "2022-12-26T18:11:37.535Z"
   },
   {
    "duration": 918,
    "start_time": "2022-12-26T18:11:39.949Z"
   },
   {
    "duration": 5010,
    "start_time": "2022-12-26T18:11:40.869Z"
   },
   {
    "duration": 98,
    "start_time": "2022-12-26T18:11:45.881Z"
   },
   {
    "duration": 13,
    "start_time": "2022-12-26T18:11:45.981Z"
   },
   {
    "duration": 917,
    "start_time": "2022-12-26T18:11:45.997Z"
   },
   {
    "duration": 305,
    "start_time": "2022-12-26T18:11:46.915Z"
   },
   {
    "duration": 246,
    "start_time": "2022-12-26T18:11:47.221Z"
   },
   {
    "duration": 14,
    "start_time": "2022-12-26T18:11:47.469Z"
   },
   {
    "duration": 12,
    "start_time": "2022-12-26T18:11:47.485Z"
   },
   {
    "duration": 214,
    "start_time": "2022-12-26T18:11:47.499Z"
   },
   {
    "duration": 204,
    "start_time": "2022-12-26T18:12:26.632Z"
   },
   {
    "duration": 130,
    "start_time": "2022-12-26T18:13:31.674Z"
   },
   {
    "duration": 218,
    "start_time": "2022-12-26T18:15:46.170Z"
   },
   {
    "duration": 256,
    "start_time": "2022-12-26T18:16:31.224Z"
   },
   {
    "duration": 242,
    "start_time": "2022-12-26T18:17:04.583Z"
   },
   {
    "duration": 2829,
    "start_time": "2022-12-26T18:18:27.179Z"
   },
   {
    "duration": 4,
    "start_time": "2022-12-26T18:20:41.759Z"
   },
   {
    "duration": 687,
    "start_time": "2022-12-26T18:20:58.406Z"
   },
   {
    "duration": 11,
    "start_time": "2022-12-26T18:27:04.522Z"
   },
   {
    "duration": 12,
    "start_time": "2022-12-26T18:27:51.842Z"
   },
   {
    "duration": 12,
    "start_time": "2022-12-26T18:40:11.479Z"
   },
   {
    "duration": 79,
    "start_time": "2022-12-26T18:42:19.482Z"
   },
   {
    "duration": 78,
    "start_time": "2022-12-26T18:42:38.758Z"
   },
   {
    "duration": 109,
    "start_time": "2022-12-26T18:42:58.195Z"
   },
   {
    "duration": 33,
    "start_time": "2022-12-26T18:46:28.055Z"
   },
   {
    "duration": 59,
    "start_time": "2022-12-26T18:47:56.456Z"
   },
   {
    "duration": 62,
    "start_time": "2022-12-26T18:49:40.786Z"
   },
   {
    "duration": 6921,
    "start_time": "2022-12-26T18:49:49.001Z"
   },
   {
    "duration": 88,
    "start_time": "2022-12-26T18:50:34.872Z"
   },
   {
    "duration": 97,
    "start_time": "2022-12-26T18:50:49.933Z"
   },
   {
    "duration": 91,
    "start_time": "2022-12-26T18:51:39.001Z"
   },
   {
    "duration": 39,
    "start_time": "2022-12-26T18:51:48.863Z"
   },
   {
    "duration": 39,
    "start_time": "2022-12-26T18:54:09.942Z"
   },
   {
    "duration": 40,
    "start_time": "2022-12-26T18:58:12.488Z"
   },
   {
    "duration": 41,
    "start_time": "2022-12-26T18:59:00.045Z"
   },
   {
    "duration": 6,
    "start_time": "2022-12-26T19:00:16.152Z"
   },
   {
    "duration": 41,
    "start_time": "2022-12-26T19:00:21.691Z"
   },
   {
    "duration": 44,
    "start_time": "2022-12-26T19:02:11.437Z"
   },
   {
    "duration": 49,
    "start_time": "2022-12-26T19:02:19.917Z"
   },
   {
    "duration": 7,
    "start_time": "2022-12-26T19:09:24.079Z"
   },
   {
    "duration": 16,
    "start_time": "2022-12-26T19:09:44.003Z"
   },
   {
    "duration": 34,
    "start_time": "2022-12-26T19:10:28.925Z"
   },
   {
    "duration": 10,
    "start_time": "2022-12-26T19:12:11.203Z"
   },
   {
    "duration": 34,
    "start_time": "2022-12-26T19:14:16.252Z"
   },
   {
    "duration": 17,
    "start_time": "2022-12-26T19:14:17.531Z"
   },
   {
    "duration": 19,
    "start_time": "2022-12-26T19:15:08.352Z"
   },
   {
    "duration": 13,
    "start_time": "2022-12-26T19:15:27.857Z"
   },
   {
    "duration": 11,
    "start_time": "2022-12-26T19:17:17.971Z"
   },
   {
    "duration": 10,
    "start_time": "2022-12-26T19:17:34.394Z"
   },
   {
    "duration": 4,
    "start_time": "2022-12-26T19:17:39.794Z"
   },
   {
    "duration": 3,
    "start_time": "2022-12-26T19:17:41.314Z"
   },
   {
    "duration": 32,
    "start_time": "2022-12-26T19:18:41.272Z"
   },
   {
    "duration": 4,
    "start_time": "2022-12-26T19:18:42.896Z"
   },
   {
    "duration": 3,
    "start_time": "2022-12-26T19:18:44.560Z"
   },
   {
    "duration": 11,
    "start_time": "2022-12-26T19:19:59.239Z"
   },
   {
    "duration": 8,
    "start_time": "2022-12-26T19:20:17.021Z"
   },
   {
    "duration": 13,
    "start_time": "2022-12-26T19:20:40.791Z"
   },
   {
    "duration": 69,
    "start_time": "2022-12-26T19:21:06.164Z"
   },
   {
    "duration": 6,
    "start_time": "2022-12-26T19:21:07.747Z"
   },
   {
    "duration": 4,
    "start_time": "2022-12-26T19:21:08.387Z"
   },
   {
    "duration": 15,
    "start_time": "2022-12-26T19:21:09.567Z"
   },
   {
    "duration": 76,
    "start_time": "2022-12-26T19:21:22.977Z"
   },
   {
    "duration": 5,
    "start_time": "2022-12-26T19:21:23.707Z"
   },
   {
    "duration": 4,
    "start_time": "2022-12-26T19:21:24.304Z"
   },
   {
    "duration": 15,
    "start_time": "2022-12-26T19:21:25.267Z"
   },
   {
    "duration": 73,
    "start_time": "2022-12-26T19:21:31.039Z"
   },
   {
    "duration": 6,
    "start_time": "2022-12-26T19:21:31.650Z"
   },
   {
    "duration": 4,
    "start_time": "2022-12-26T19:21:32.057Z"
   },
   {
    "duration": 14,
    "start_time": "2022-12-26T19:21:32.706Z"
   },
   {
    "duration": 755,
    "start_time": "2022-12-26T19:22:20.282Z"
   },
   {
    "duration": 4,
    "start_time": "2022-12-26T19:22:21.040Z"
   },
   {
    "duration": 3,
    "start_time": "2022-12-26T19:22:21.292Z"
   },
   {
    "duration": 61,
    "start_time": "2022-12-26T19:22:21.961Z"
   },
   {
    "duration": 65,
    "start_time": "2022-12-26T19:23:08.052Z"
   },
   {
    "duration": 5,
    "start_time": "2022-12-26T19:23:08.492Z"
   },
   {
    "duration": 3,
    "start_time": "2022-12-26T19:23:08.840Z"
   },
   {
    "duration": 15,
    "start_time": "2022-12-26T19:23:09.650Z"
   },
   {
    "duration": 2289,
    "start_time": "2022-12-27T14:46:10.078Z"
   },
   {
    "duration": 45,
    "start_time": "2022-12-27T14:46:12.369Z"
   },
   {
    "duration": 16,
    "start_time": "2022-12-27T14:46:12.416Z"
   },
   {
    "duration": 18,
    "start_time": "2022-12-27T14:46:12.434Z"
   },
   {
    "duration": 45,
    "start_time": "2022-12-27T14:46:12.455Z"
   },
   {
    "duration": 5,
    "start_time": "2022-12-27T14:46:12.502Z"
   },
   {
    "duration": 8,
    "start_time": "2022-12-27T14:46:12.509Z"
   },
   {
    "duration": 8,
    "start_time": "2022-12-27T14:46:12.519Z"
   },
   {
    "duration": 15,
    "start_time": "2022-12-27T14:46:12.529Z"
   },
   {
    "duration": 21,
    "start_time": "2022-12-27T14:46:12.577Z"
   },
   {
    "duration": 8,
    "start_time": "2022-12-27T14:46:12.600Z"
   },
   {
    "duration": 11,
    "start_time": "2022-12-27T14:46:12.610Z"
   },
   {
    "duration": 10,
    "start_time": "2022-12-27T14:46:12.623Z"
   },
   {
    "duration": 174,
    "start_time": "2022-12-27T14:46:12.635Z"
   },
   {
    "duration": 5,
    "start_time": "2022-12-27T14:46:12.811Z"
   },
   {
    "duration": 151,
    "start_time": "2022-12-27T14:46:12.818Z"
   },
   {
    "duration": 11,
    "start_time": "2022-12-27T14:46:12.971Z"
   },
   {
    "duration": 137,
    "start_time": "2022-12-27T14:46:12.984Z"
   },
   {
    "duration": 0,
    "start_time": "2022-12-27T14:46:13.124Z"
   },
   {
    "duration": 0,
    "start_time": "2022-12-27T14:46:13.125Z"
   },
   {
    "duration": 0,
    "start_time": "2022-12-27T14:46:13.126Z"
   },
   {
    "duration": 0,
    "start_time": "2022-12-27T14:46:13.128Z"
   },
   {
    "duration": 1,
    "start_time": "2022-12-27T14:46:13.129Z"
   },
   {
    "duration": 0,
    "start_time": "2022-12-27T14:46:13.131Z"
   },
   {
    "duration": 0,
    "start_time": "2022-12-27T14:46:13.133Z"
   },
   {
    "duration": 0,
    "start_time": "2022-12-27T14:46:13.134Z"
   },
   {
    "duration": 0,
    "start_time": "2022-12-27T14:46:13.136Z"
   },
   {
    "duration": 0,
    "start_time": "2022-12-27T14:46:13.137Z"
   },
   {
    "duration": 0,
    "start_time": "2022-12-27T14:46:13.139Z"
   },
   {
    "duration": 0,
    "start_time": "2022-12-27T14:46:13.140Z"
   },
   {
    "duration": 0,
    "start_time": "2022-12-27T14:46:13.142Z"
   },
   {
    "duration": 1,
    "start_time": "2022-12-27T14:46:13.143Z"
   },
   {
    "duration": 0,
    "start_time": "2022-12-27T14:46:13.178Z"
   },
   {
    "duration": 0,
    "start_time": "2022-12-27T14:46:13.180Z"
   },
   {
    "duration": 0,
    "start_time": "2022-12-27T14:46:13.181Z"
   },
   {
    "duration": 0,
    "start_time": "2022-12-27T14:46:13.182Z"
   },
   {
    "duration": 0,
    "start_time": "2022-12-27T14:46:13.183Z"
   },
   {
    "duration": 0,
    "start_time": "2022-12-27T14:46:13.184Z"
   },
   {
    "duration": 0,
    "start_time": "2022-12-27T14:46:13.185Z"
   },
   {
    "duration": 0,
    "start_time": "2022-12-27T14:46:13.186Z"
   },
   {
    "duration": 0,
    "start_time": "2022-12-27T14:46:13.187Z"
   },
   {
    "duration": 0,
    "start_time": "2022-12-27T14:46:13.188Z"
   },
   {
    "duration": 0,
    "start_time": "2022-12-27T14:46:13.189Z"
   },
   {
    "duration": 0,
    "start_time": "2022-12-27T14:46:13.190Z"
   },
   {
    "duration": 0,
    "start_time": "2022-12-27T14:46:13.192Z"
   },
   {
    "duration": 0,
    "start_time": "2022-12-27T14:46:13.193Z"
   },
   {
    "duration": 0,
    "start_time": "2022-12-27T14:46:13.194Z"
   },
   {
    "duration": 0,
    "start_time": "2022-12-27T14:46:13.195Z"
   },
   {
    "duration": 0,
    "start_time": "2022-12-27T14:46:13.196Z"
   },
   {
    "duration": 0,
    "start_time": "2022-12-27T14:46:13.197Z"
   },
   {
    "duration": 0,
    "start_time": "2022-12-27T14:46:13.198Z"
   },
   {
    "duration": 1589,
    "start_time": "2022-12-27T15:40:28.804Z"
   },
   {
    "duration": 185,
    "start_time": "2022-12-27T15:40:55.049Z"
   },
   {
    "duration": 24,
    "start_time": "2022-12-27T15:40:56.968Z"
   },
   {
    "duration": 15,
    "start_time": "2022-12-27T15:40:59.616Z"
   },
   {
    "duration": 42,
    "start_time": "2022-12-27T15:41:03.326Z"
   },
   {
    "duration": 50,
    "start_time": "2022-12-31T05:00:51.464Z"
   },
   {
    "duration": 1546,
    "start_time": "2022-12-31T05:01:05.510Z"
   },
   {
    "duration": 84,
    "start_time": "2022-12-31T05:01:19.448Z"
   },
   {
    "duration": 17,
    "start_time": "2022-12-31T05:01:20.024Z"
   },
   {
    "duration": 12,
    "start_time": "2022-12-31T05:01:22.549Z"
   },
   {
    "duration": 48,
    "start_time": "2022-12-31T05:01:24.408Z"
   },
   {
    "duration": 5,
    "start_time": "2022-12-31T05:01:27.368Z"
   },
   {
    "duration": 5,
    "start_time": "2022-12-31T05:01:28.209Z"
   },
   {
    "duration": 6,
    "start_time": "2022-12-31T05:01:29.354Z"
   },
   {
    "duration": 13,
    "start_time": "2022-12-31T05:01:29.959Z"
   },
   {
    "duration": 24,
    "start_time": "2022-12-31T05:01:35.210Z"
   },
   {
    "duration": 7,
    "start_time": "2022-12-31T05:01:39.477Z"
   },
   {
    "duration": 8,
    "start_time": "2022-12-31T05:01:40.158Z"
   },
   {
    "duration": 5,
    "start_time": "2022-12-31T05:01:42.760Z"
   },
   {
    "duration": 125,
    "start_time": "2022-12-31T05:01:45.496Z"
   },
   {
    "duration": 53,
    "start_time": "2022-12-31T05:06:57.716Z"
   },
   {
    "duration": 9,
    "start_time": "2022-12-31T05:07:41.903Z"
   },
   {
    "duration": 10,
    "start_time": "2022-12-31T05:08:20.701Z"
   },
   {
    "duration": 5,
    "start_time": "2022-12-31T05:08:46.936Z"
   },
   {
    "duration": 136,
    "start_time": "2022-12-31T05:09:18.897Z"
   },
   {
    "duration": 179,
    "start_time": "2022-12-31T05:09:38.406Z"
   },
   {
    "duration": 114,
    "start_time": "2022-12-31T05:09:53.380Z"
   },
   {
    "duration": 117,
    "start_time": "2022-12-31T05:11:06.956Z"
   },
   {
    "duration": 133,
    "start_time": "2022-12-31T05:11:23.134Z"
   },
   {
    "duration": 134,
    "start_time": "2022-12-31T05:11:56.524Z"
   },
   {
    "duration": 124,
    "start_time": "2022-12-31T05:14:21.251Z"
   },
   {
    "duration": 122,
    "start_time": "2022-12-31T05:14:50.750Z"
   },
   {
    "duration": 132,
    "start_time": "2022-12-31T05:15:07.460Z"
   },
   {
    "duration": 121,
    "start_time": "2022-12-31T05:15:35.049Z"
   },
   {
    "duration": 116,
    "start_time": "2022-12-31T05:16:06.232Z"
   },
   {
    "duration": 5,
    "start_time": "2022-12-31T05:17:08.101Z"
   },
   {
    "duration": 385,
    "start_time": "2022-12-31T05:17:17.533Z"
   },
   {
    "duration": 6,
    "start_time": "2022-12-31T05:21:40.112Z"
   },
   {
    "duration": 112,
    "start_time": "2022-12-31T05:21:48.802Z"
   },
   {
    "duration": 6,
    "start_time": "2022-12-31T05:22:34.597Z"
   },
   {
    "duration": 193,
    "start_time": "2022-12-31T05:22:39.486Z"
   },
   {
    "duration": 6,
    "start_time": "2022-12-31T05:23:05.815Z"
   },
   {
    "duration": 7,
    "start_time": "2022-12-31T05:23:12.867Z"
   },
   {
    "duration": 6,
    "start_time": "2022-12-31T05:23:30.247Z"
   },
   {
    "duration": 113,
    "start_time": "2022-12-31T05:24:51.645Z"
   },
   {
    "duration": 10,
    "start_time": "2022-12-31T05:24:54.472Z"
   },
   {
    "duration": 352,
    "start_time": "2022-12-31T05:25:22.395Z"
   },
   {
    "duration": 380,
    "start_time": "2022-12-31T05:25:32.624Z"
   },
   {
    "duration": 5,
    "start_time": "2022-12-31T05:26:10.683Z"
   },
   {
    "duration": 125,
    "start_time": "2022-12-31T05:26:12.685Z"
   },
   {
    "duration": 6,
    "start_time": "2022-12-31T05:26:26.595Z"
   },
   {
    "duration": 116,
    "start_time": "2022-12-31T05:26:38.636Z"
   },
   {
    "duration": 11,
    "start_time": "2022-12-31T05:28:26.820Z"
   },
   {
    "duration": 3,
    "start_time": "2022-12-31T05:28:31.917Z"
   },
   {
    "duration": 190,
    "start_time": "2022-12-31T05:28:34.159Z"
   },
   {
    "duration": 1195,
    "start_time": "2022-12-31T05:29:12.093Z"
   },
   {
    "duration": 2460,
    "start_time": "2022-12-31T05:29:37.653Z"
   },
   {
    "duration": 55,
    "start_time": "2022-12-31T05:58:38.716Z"
   },
   {
    "duration": 1695,
    "start_time": "2023-01-03T16:24:20.916Z"
   },
   {
    "duration": 96,
    "start_time": "2023-01-03T16:24:32.823Z"
   },
   {
    "duration": 15,
    "start_time": "2023-01-03T16:24:33.435Z"
   },
   {
    "duration": 13,
    "start_time": "2023-01-03T16:24:35.287Z"
   },
   {
    "duration": 46,
    "start_time": "2023-01-03T16:24:39.512Z"
   },
   {
    "duration": 5,
    "start_time": "2023-01-03T16:24:57.779Z"
   },
   {
    "duration": 6,
    "start_time": "2023-01-03T16:25:04.948Z"
   },
   {
    "duration": 7,
    "start_time": "2023-01-03T16:25:08.907Z"
   },
   {
    "duration": 18,
    "start_time": "2023-01-03T16:25:09.993Z"
   },
   {
    "duration": 19,
    "start_time": "2023-01-03T16:25:21.253Z"
   },
   {
    "duration": 6,
    "start_time": "2023-01-03T16:25:28.502Z"
   },
   {
    "duration": 9,
    "start_time": "2023-01-03T16:25:32.495Z"
   },
   {
    "duration": 6,
    "start_time": "2023-01-03T16:25:39.993Z"
   },
   {
    "duration": 134,
    "start_time": "2023-01-03T16:25:43.992Z"
   },
   {
    "duration": 8,
    "start_time": "2023-01-03T16:25:55.093Z"
   },
   {
    "duration": 138,
    "start_time": "2023-01-03T16:26:21.312Z"
   },
   {
    "duration": 8,
    "start_time": "2023-01-03T16:26:33.082Z"
   },
   {
    "duration": 5,
    "start_time": "2023-01-03T16:27:53.142Z"
   },
   {
    "duration": 204,
    "start_time": "2023-01-03T16:27:56.542Z"
   },
   {
    "duration": 7,
    "start_time": "2023-01-03T16:28:20.873Z"
   },
   {
    "duration": 7,
    "start_time": "2023-01-03T16:28:40.162Z"
   },
   {
    "duration": 136,
    "start_time": "2023-01-03T16:30:19.704Z"
   },
   {
    "duration": 7,
    "start_time": "2023-01-03T16:30:25.170Z"
   },
   {
    "duration": 3,
    "start_time": "2023-01-03T16:30:28.953Z"
   },
   {
    "duration": 1352,
    "start_time": "2023-01-03T16:30:31.517Z"
   },
   {
    "duration": 2794,
    "start_time": "2023-01-03T16:31:45.165Z"
   },
   {
    "duration": 4,
    "start_time": "2023-01-03T16:32:17.675Z"
   },
   {
    "duration": 8,
    "start_time": "2023-01-03T16:32:19.195Z"
   },
   {
    "duration": 12,
    "start_time": "2023-01-03T16:32:41.782Z"
   },
   {
    "duration": 27,
    "start_time": "2023-01-03T16:32:46.501Z"
   },
   {
    "duration": 11,
    "start_time": "2023-01-03T16:32:51.693Z"
   },
   {
    "duration": 3,
    "start_time": "2023-01-03T16:37:45.573Z"
   },
   {
    "duration": 4,
    "start_time": "2023-01-03T16:39:01.009Z"
   },
   {
    "duration": 1564,
    "start_time": "2023-01-03T16:39:46.161Z"
   },
   {
    "duration": 3,
    "start_time": "2023-01-03T16:40:10.077Z"
   },
   {
    "duration": 1561,
    "start_time": "2023-01-03T16:40:12.396Z"
   },
   {
    "duration": 102562,
    "start_time": "2023-01-03T16:41:28.319Z"
   },
   {
    "duration": 1401,
    "start_time": "2023-01-03T16:44:30.740Z"
   },
   {
    "duration": 38,
    "start_time": "2023-01-03T16:45:41.908Z"
   },
   {
    "duration": 5,
    "start_time": "2023-01-03T16:46:52.961Z"
   },
   {
    "duration": 57,
    "start_time": "2023-01-03T16:47:23.908Z"
   },
   {
    "duration": 13,
    "start_time": "2023-01-03T16:51:33.012Z"
   },
   {
    "duration": 3,
    "start_time": "2023-01-03T16:52:31.524Z"
   },
   {
    "duration": 1795,
    "start_time": "2023-01-03T16:53:29.441Z"
   },
   {
    "duration": 143151,
    "start_time": "2023-01-03T16:54:11.799Z"
   },
   {
    "duration": 1561,
    "start_time": "2023-01-03T16:57:51.488Z"
   },
   {
    "duration": 4,
    "start_time": "2023-01-03T16:58:48.174Z"
   },
   {
    "duration": 5,
    "start_time": "2023-01-03T16:59:22.694Z"
   },
   {
    "duration": 18,
    "start_time": "2023-01-03T17:01:19.247Z"
   },
   {
    "duration": 4,
    "start_time": "2023-01-03T17:01:40.118Z"
   },
   {
    "duration": 532,
    "start_time": "2023-01-03T17:02:11.056Z"
   },
   {
    "duration": 50926,
    "start_time": "2023-01-03T17:02:51.821Z"
   },
   {
    "duration": 678,
    "start_time": "2023-01-03T17:04:32.358Z"
   },
   {
    "duration": 4,
    "start_time": "2023-01-03T17:04:38.540Z"
   },
   {
    "duration": 3,
    "start_time": "2023-01-03T17:06:43.295Z"
   },
   {
    "duration": 1421,
    "start_time": "2023-01-03T17:09:37.590Z"
   },
   {
    "duration": 99734,
    "start_time": "2023-01-03T17:09:43.075Z"
   },
   {
    "duration": 1069,
    "start_time": "2023-01-03T17:11:39.273Z"
   },
   {
    "duration": 4,
    "start_time": "2023-01-03T17:11:44.241Z"
   },
   {
    "duration": 47,
    "start_time": "2023-01-03T17:12:31.050Z"
   },
   {
    "duration": 893,
    "start_time": "2023-01-03T17:13:27.998Z"
   },
   {
    "duration": 734,
    "start_time": "2023-01-03T17:17:18.261Z"
   },
   {
    "duration": 554,
    "start_time": "2023-01-03T17:22:34.194Z"
   },
   {
    "duration": 496,
    "start_time": "2023-01-03T17:23:30.970Z"
   },
   {
    "duration": 516,
    "start_time": "2023-01-03T17:24:00.562Z"
   },
   {
    "duration": 316,
    "start_time": "2023-01-03T17:24:07.773Z"
   },
   {
    "duration": 572,
    "start_time": "2023-01-03T17:24:16.511Z"
   },
   {
    "duration": 532,
    "start_time": "2023-01-03T17:24:24.631Z"
   },
   {
    "duration": 790,
    "start_time": "2023-01-03T17:24:52.841Z"
   },
   {
    "duration": 254,
    "start_time": "2023-01-03T17:26:58.128Z"
   },
   {
    "duration": 98,
    "start_time": "2023-01-03T17:27:09.510Z"
   },
   {
    "duration": 272,
    "start_time": "2023-01-03T17:27:23.820Z"
   },
   {
    "duration": 274,
    "start_time": "2023-01-03T17:27:29.929Z"
   },
   {
    "duration": 62,
    "start_time": "2023-01-03T17:33:31.966Z"
   },
   {
    "duration": 1494,
    "start_time": "2023-01-03T17:35:07.823Z"
   },
   {
    "duration": 45,
    "start_time": "2023-01-03T17:35:09.319Z"
   },
   {
    "duration": 18,
    "start_time": "2023-01-03T17:35:09.366Z"
   },
   {
    "duration": 23,
    "start_time": "2023-01-03T17:35:09.386Z"
   },
   {
    "duration": 74,
    "start_time": "2023-01-03T17:35:09.412Z"
   },
   {
    "duration": 6,
    "start_time": "2023-01-03T17:35:09.488Z"
   },
   {
    "duration": 14,
    "start_time": "2023-01-03T17:35:09.497Z"
   },
   {
    "duration": 25,
    "start_time": "2023-01-03T17:35:09.513Z"
   },
   {
    "duration": 24,
    "start_time": "2023-01-03T17:35:09.540Z"
   },
   {
    "duration": 28,
    "start_time": "2023-01-03T17:35:09.566Z"
   },
   {
    "duration": 10,
    "start_time": "2023-01-03T17:35:09.596Z"
   },
   {
    "duration": 27,
    "start_time": "2023-01-03T17:35:09.608Z"
   },
   {
    "duration": 7,
    "start_time": "2023-01-03T17:35:09.638Z"
   },
   {
    "duration": 180,
    "start_time": "2023-01-03T17:35:09.650Z"
   },
   {
    "duration": 6,
    "start_time": "2023-01-03T17:35:09.835Z"
   },
   {
    "duration": 202,
    "start_time": "2023-01-03T17:35:09.843Z"
   },
   {
    "duration": 9,
    "start_time": "2023-01-03T17:35:10.048Z"
   },
   {
    "duration": 22,
    "start_time": "2023-01-03T17:35:10.058Z"
   },
   {
    "duration": 1386,
    "start_time": "2023-01-03T17:35:10.083Z"
   },
   {
    "duration": 2979,
    "start_time": "2023-01-03T17:35:11.472Z"
   },
   {
    "duration": 5,
    "start_time": "2023-01-03T17:35:14.453Z"
   },
   {
    "duration": 18,
    "start_time": "2023-01-03T17:35:14.460Z"
   },
   {
    "duration": 23,
    "start_time": "2023-01-03T17:35:14.480Z"
   },
   {
    "duration": 21,
    "start_time": "2023-01-03T17:35:14.505Z"
   },
   {
    "duration": 45,
    "start_time": "2023-01-03T17:35:14.528Z"
   },
   {
    "duration": 15,
    "start_time": "2023-01-03T17:35:14.575Z"
   },
   {
    "duration": 12,
    "start_time": "2023-01-03T17:35:14.591Z"
   },
   {
    "duration": 1467,
    "start_time": "2023-01-03T17:35:14.604Z"
   },
   {
    "duration": 106363,
    "start_time": "2023-01-03T17:35:16.073Z"
   },
   {
    "duration": 1095,
    "start_time": "2023-01-03T17:37:02.442Z"
   },
   {
    "duration": 11,
    "start_time": "2023-01-03T17:37:03.539Z"
   },
   {
    "duration": 69,
    "start_time": "2023-01-03T17:37:03.636Z"
   },
   {
    "duration": 18,
    "start_time": "2023-01-03T17:37:03.707Z"
   },
   {
    "duration": 13,
    "start_time": "2023-01-03T17:37:03.735Z"
   },
   {
    "duration": 1954,
    "start_time": "2023-01-03T17:37:03.751Z"
   },
   {
    "duration": 149320,
    "start_time": "2023-01-03T17:37:05.707Z"
   },
   {
    "duration": 1416,
    "start_time": "2023-01-03T17:39:35.030Z"
   },
   {
    "duration": 94,
    "start_time": "2023-01-03T17:39:36.448Z"
   },
   {
    "duration": 25,
    "start_time": "2023-01-03T17:39:36.634Z"
   },
   {
    "duration": 8,
    "start_time": "2023-01-03T17:39:36.662Z"
   },
   {
    "duration": 614,
    "start_time": "2023-01-03T17:39:36.674Z"
   },
   {
    "duration": 51082,
    "start_time": "2023-01-03T17:39:37.289Z"
   },
   {
    "duration": 366,
    "start_time": "2023-01-03T17:40:28.373Z"
   },
   {
    "duration": 8,
    "start_time": "2023-01-03T17:40:28.741Z"
   },
   {
    "duration": 10,
    "start_time": "2023-01-03T17:40:28.837Z"
   },
   {
    "duration": 1566,
    "start_time": "2023-01-03T17:40:28.849Z"
   },
   {
    "duration": 101516,
    "start_time": "2023-01-03T17:40:30.417Z"
   },
   {
    "duration": 1207,
    "start_time": "2023-01-03T17:42:11.935Z"
   },
   {
    "duration": 92,
    "start_time": "2023-01-03T17:42:13.144Z"
   },
   {
    "duration": 1226,
    "start_time": "2023-01-03T17:42:13.238Z"
   },
   {
    "duration": 272,
    "start_time": "2023-01-03T17:42:14.466Z"
   },
   {
    "duration": 95,
    "start_time": "2023-01-03T17:43:03.499Z"
   },
   {
    "duration": 272,
    "start_time": "2023-01-03T17:43:10.701Z"
   },
   {
    "duration": 82,
    "start_time": "2023-01-04T04:41:22.609Z"
   },
   {
    "duration": 1600,
    "start_time": "2023-01-04T04:41:31.596Z"
   },
   {
    "duration": 159,
    "start_time": "2023-01-04T04:41:33.198Z"
   },
   {
    "duration": 16,
    "start_time": "2023-01-04T04:41:33.359Z"
   },
   {
    "duration": 33,
    "start_time": "2023-01-04T04:41:33.377Z"
   },
   {
    "duration": 65,
    "start_time": "2023-01-04T04:41:33.412Z"
   },
   {
    "duration": 5,
    "start_time": "2023-01-04T04:41:33.479Z"
   },
   {
    "duration": 35,
    "start_time": "2023-01-04T04:41:33.486Z"
   },
   {
    "duration": 33,
    "start_time": "2023-01-04T04:41:33.522Z"
   },
   {
    "duration": 42,
    "start_time": "2023-01-04T04:41:33.557Z"
   },
   {
    "duration": 31,
    "start_time": "2023-01-04T04:41:33.602Z"
   },
   {
    "duration": 15,
    "start_time": "2023-01-04T04:41:33.634Z"
   },
   {
    "duration": 28,
    "start_time": "2023-01-04T04:41:33.650Z"
   },
   {
    "duration": 65,
    "start_time": "2023-01-04T04:41:33.679Z"
   },
   {
    "duration": 161,
    "start_time": "2023-01-04T04:41:33.746Z"
   },
   {
    "duration": 73,
    "start_time": "2023-01-04T04:41:33.909Z"
   },
   {
    "duration": 0,
    "start_time": "2023-01-04T04:41:33.984Z"
   },
   {
    "duration": 0,
    "start_time": "2023-01-04T04:41:33.985Z"
   },
   {
    "duration": 0,
    "start_time": "2023-01-04T04:41:33.986Z"
   },
   {
    "duration": 0,
    "start_time": "2023-01-04T04:41:33.987Z"
   },
   {
    "duration": 0,
    "start_time": "2023-01-04T04:41:33.988Z"
   },
   {
    "duration": 0,
    "start_time": "2023-01-04T04:41:33.989Z"
   },
   {
    "duration": 0,
    "start_time": "2023-01-04T04:41:33.990Z"
   },
   {
    "duration": 0,
    "start_time": "2023-01-04T04:41:33.992Z"
   },
   {
    "duration": 0,
    "start_time": "2023-01-04T04:41:33.993Z"
   },
   {
    "duration": 0,
    "start_time": "2023-01-04T04:41:33.994Z"
   },
   {
    "duration": 0,
    "start_time": "2023-01-04T04:41:33.995Z"
   },
   {
    "duration": 0,
    "start_time": "2023-01-04T04:41:33.996Z"
   },
   {
    "duration": 0,
    "start_time": "2023-01-04T04:41:33.997Z"
   },
   {
    "duration": 0,
    "start_time": "2023-01-04T04:41:33.998Z"
   },
   {
    "duration": 0,
    "start_time": "2023-01-04T04:41:33.999Z"
   },
   {
    "duration": 0,
    "start_time": "2023-01-04T04:41:34.000Z"
   },
   {
    "duration": 0,
    "start_time": "2023-01-04T04:41:34.001Z"
   },
   {
    "duration": 0,
    "start_time": "2023-01-04T04:41:34.002Z"
   },
   {
    "duration": 0,
    "start_time": "2023-01-04T04:41:34.003Z"
   },
   {
    "duration": 0,
    "start_time": "2023-01-04T04:41:34.004Z"
   },
   {
    "duration": 0,
    "start_time": "2023-01-04T04:41:34.006Z"
   },
   {
    "duration": 0,
    "start_time": "2023-01-04T04:41:34.007Z"
   },
   {
    "duration": 0,
    "start_time": "2023-01-04T04:41:34.008Z"
   },
   {
    "duration": 0,
    "start_time": "2023-01-04T04:41:34.009Z"
   },
   {
    "duration": 0,
    "start_time": "2023-01-04T04:41:34.010Z"
   },
   {
    "duration": 0,
    "start_time": "2023-01-04T04:41:34.011Z"
   },
   {
    "duration": 0,
    "start_time": "2023-01-04T04:41:34.013Z"
   },
   {
    "duration": 0,
    "start_time": "2023-01-04T04:41:34.014Z"
   },
   {
    "duration": 0,
    "start_time": "2023-01-04T04:41:34.015Z"
   },
   {
    "duration": 0,
    "start_time": "2023-01-04T04:41:34.016Z"
   },
   {
    "duration": 0,
    "start_time": "2023-01-04T04:41:34.017Z"
   },
   {
    "duration": 0,
    "start_time": "2023-01-04T04:41:34.018Z"
   },
   {
    "duration": 0,
    "start_time": "2023-01-04T04:41:34.019Z"
   },
   {
    "duration": 0,
    "start_time": "2023-01-04T04:41:34.050Z"
   },
   {
    "duration": 0,
    "start_time": "2023-01-04T04:41:34.051Z"
   },
   {
    "duration": 0,
    "start_time": "2023-01-04T04:41:34.052Z"
   },
   {
    "duration": 0,
    "start_time": "2023-01-04T04:41:34.054Z"
   },
   {
    "duration": 0,
    "start_time": "2023-01-04T04:41:34.055Z"
   },
   {
    "duration": 67,
    "start_time": "2023-01-04T04:42:17.462Z"
   },
   {
    "duration": 73,
    "start_time": "2023-01-04T04:42:38.032Z"
   },
   {
    "duration": 73,
    "start_time": "2023-01-04T04:43:02.888Z"
   },
   {
    "duration": 93,
    "start_time": "2023-01-04T04:45:08.601Z"
   },
   {
    "duration": 156,
    "start_time": "2023-01-04T04:45:29.054Z"
   },
   {
    "duration": 4,
    "start_time": "2023-01-04T04:46:30.370Z"
   },
   {
    "duration": 176,
    "start_time": "2023-01-04T04:46:39.099Z"
   },
   {
    "duration": 8,
    "start_time": "2023-01-04T04:46:42.477Z"
   },
   {
    "duration": 3,
    "start_time": "2023-01-04T04:47:10.644Z"
   },
   {
    "duration": 1394,
    "start_time": "2023-01-04T04:47:12.354Z"
   },
   {
    "duration": 2743,
    "start_time": "2023-01-04T04:49:15.869Z"
   },
   {
    "duration": 4,
    "start_time": "2023-01-04T04:49:32.200Z"
   },
   {
    "duration": 53,
    "start_time": "2023-01-04T04:49:32.208Z"
   },
   {
    "duration": 12,
    "start_time": "2023-01-04T04:49:32.263Z"
   },
   {
    "duration": 17,
    "start_time": "2023-01-04T04:49:32.277Z"
   },
   {
    "duration": 57,
    "start_time": "2023-01-04T04:49:32.295Z"
   },
   {
    "duration": 5,
    "start_time": "2023-01-04T04:49:32.354Z"
   },
   {
    "duration": 22,
    "start_time": "2023-01-04T04:49:32.360Z"
   },
   {
    "duration": 26,
    "start_time": "2023-01-04T04:49:32.384Z"
   },
   {
    "duration": 34,
    "start_time": "2023-01-04T04:49:32.412Z"
   },
   {
    "duration": 48,
    "start_time": "2023-01-04T04:49:32.448Z"
   },
   {
    "duration": 23,
    "start_time": "2023-01-04T04:49:32.498Z"
   },
   {
    "duration": 17,
    "start_time": "2023-01-04T04:49:32.522Z"
   },
   {
    "duration": 18,
    "start_time": "2023-01-04T04:49:32.540Z"
   },
   {
    "duration": 137,
    "start_time": "2023-01-04T04:49:32.560Z"
   },
   {
    "duration": 4,
    "start_time": "2023-01-04T04:49:32.700Z"
   },
   {
    "duration": 31,
    "start_time": "2023-01-04T04:49:32.706Z"
   },
   {
    "duration": 173,
    "start_time": "2023-01-04T04:49:32.739Z"
   },
   {
    "duration": 7,
    "start_time": "2023-01-04T04:49:32.914Z"
   },
   {
    "duration": 28,
    "start_time": "2023-01-04T04:49:32.922Z"
   },
   {
    "duration": 1192,
    "start_time": "2023-01-04T04:49:32.951Z"
   },
   {
    "duration": 2828,
    "start_time": "2023-01-04T04:49:34.145Z"
   },
   {
    "duration": 5,
    "start_time": "2023-01-04T04:49:36.974Z"
   },
   {
    "duration": 14,
    "start_time": "2023-01-04T04:49:36.981Z"
   },
   {
    "duration": 19,
    "start_time": "2023-01-04T04:49:36.996Z"
   },
   {
    "duration": 28,
    "start_time": "2023-01-04T04:49:37.017Z"
   },
   {
    "duration": 40,
    "start_time": "2023-01-04T04:49:37.047Z"
   },
   {
    "duration": 14,
    "start_time": "2023-01-04T04:49:37.089Z"
   },
   {
    "duration": 13,
    "start_time": "2023-01-04T04:49:37.105Z"
   },
   {
    "duration": 1391,
    "start_time": "2023-01-04T04:49:37.120Z"
   },
   {
    "duration": 101997,
    "start_time": "2023-01-04T04:49:38.512Z"
   },
   {
    "duration": 1048,
    "start_time": "2023-01-04T04:51:20.511Z"
   },
   {
    "duration": 92,
    "start_time": "2023-01-04T04:51:21.563Z"
   },
   {
    "duration": 149,
    "start_time": "2023-01-04T04:51:21.658Z"
   },
   {
    "duration": 13,
    "start_time": "2023-01-04T04:51:21.809Z"
   },
   {
    "duration": 18,
    "start_time": "2023-01-04T04:51:21.824Z"
   },
   {
    "duration": 1916,
    "start_time": "2023-01-04T04:51:21.843Z"
   },
   {
    "duration": 146438,
    "start_time": "2023-01-04T04:51:23.760Z"
   },
   {
    "duration": 1663,
    "start_time": "2023-01-04T04:53:50.200Z"
   },
   {
    "duration": 88,
    "start_time": "2023-01-04T04:53:51.865Z"
   },
   {
    "duration": 115,
    "start_time": "2023-01-04T04:53:51.956Z"
   },
   {
    "duration": 3,
    "start_time": "2023-01-04T04:53:52.074Z"
   },
   {
    "duration": 572,
    "start_time": "2023-01-04T04:53:52.082Z"
   },
   {
    "duration": 53056,
    "start_time": "2023-01-04T04:53:52.655Z"
   },
   {
    "duration": 548,
    "start_time": "2023-01-04T04:54:45.712Z"
   },
   {
    "duration": 95,
    "start_time": "2023-01-04T04:54:46.262Z"
   },
   {
    "duration": 92,
    "start_time": "2023-01-04T04:54:46.359Z"
   },
   {
    "duration": 1521,
    "start_time": "2023-01-04T04:54:46.453Z"
   },
   {
    "duration": 103935,
    "start_time": "2023-01-04T04:54:47.976Z"
   },
   {
    "duration": 1250,
    "start_time": "2023-01-04T04:56:31.912Z"
   },
   {
    "duration": 88,
    "start_time": "2023-01-04T04:56:33.164Z"
   },
   {
    "duration": 967,
    "start_time": "2023-01-04T04:56:33.254Z"
   },
   {
    "duration": 280,
    "start_time": "2023-01-04T04:56:34.222Z"
   },
   {
    "duration": 515,
    "start_time": "2023-01-04T04:57:43.265Z"
   }
  ],
  "kernelspec": {
   "display_name": "Python 3 (ipykernel)",
   "language": "python",
   "name": "python3"
  },
  "language_info": {
   "codemirror_mode": {
    "name": "ipython",
    "version": 3
   },
   "file_extension": ".py",
   "mimetype": "text/x-python",
   "name": "python",
   "nbconvert_exporter": "python",
   "pygments_lexer": "ipython3",
   "version": "3.9.13"
  },
  "toc": {
   "base_numbering": 1,
   "nav_menu": {},
   "number_sections": true,
   "sideBar": true,
   "skip_h1_title": true,
   "title_cell": "Содержание",
   "title_sidebar": "Contents",
   "toc_cell": true,
   "toc_position": {
    "height": "calc(100% - 180px)",
    "left": "10px",
    "top": "150px",
    "width": "252px"
   },
   "toc_section_display": true,
   "toc_window_display": false
  }
 },
 "nbformat": 4,
 "nbformat_minor": 2
}
